{
 "cells": [
  {
   "cell_type": "code",
   "execution_count": 1,
   "metadata": {
    "collapsed": true
   },
   "outputs": [],
   "source": [
    "import cv2\n",
    "import mediapipe as mp\n",
    "import csv\n",
    "\n",
    "import numpy as np\n",
    "import pandas as pd\n",
    "#\n",
    "# mp_drawing = mp.solutions.drawing_utils\n",
    "# mp_drawing_styles = mp.solutions.drawing_styles\n",
    "# mp_hands = mp.solutions.hands\n",
    "#\n",
    "# dataframe = None\n",
    "#\n",
    "# cap = cv2.VideoCapture(0)\n",
    "# with mp_hands.Hands(\n",
    "#         model_complexity=0,\n",
    "#         min_detection_confidence=0.5,\n",
    "#         min_tracking_confidence=0.5) as hands:\n",
    "#     while cap.isOpened():\n",
    "#         success, image = cap.read()\n",
    "#         if not success:\n",
    "#             print(\"Ignoring empty camera frame.\")\n",
    "#             # If loading a video, use 'break' instead of 'continue'.\n",
    "#             continue\n",
    "#\n",
    "#         # To improve performance, optionally mark the image as not writeable to\n",
    "#         # pass by reference.\n",
    "#         image.flags.writeable = False\n",
    "#         image = cv2.cvtColor(image, cv2.COLOR_BGR2RGB)\n",
    "#         results = hands.process(image)\n",
    "#\n",
    "#         # Draw the hand annotations on the image.\n",
    "#         image.flags.writeable = True\n",
    "#         image = cv2.cvtColor(image, cv2.COLOR_RGB2BGR)\n",
    "#\n",
    "#         landmarks_hand = {}\n",
    "#\n",
    "#         if results.multi_hand_landmarks:\n",
    "#\n",
    "#             for index, landmark in enumerate(results.multi_hand_landmarks[0].landmark):\n",
    "#                 x = landmark.x\n",
    "#                 y = landmark.y\n",
    "#                 z = landmark.z\n",
    "#\n",
    "#                 landmarks_hand[f'landmark_{index}_x'] = x\n",
    "#                 landmarks_hand[f'landmark_{index}_y'] = y\n",
    "#                 landmarks_hand[f'landmark_{index}_z'] = z\n",
    "#\n",
    "#             new_dataframe = pd.DataFrame(landmarks_hand, index=range(len(landmarks_hand.values())))\n",
    "#             new_dataframe['target'] = 2\n",
    "#\n",
    "#             if dataframe is not None:\n",
    "#                 dataframe = pd.concat((dataframe, new_dataframe))\n",
    "#             else:\n",
    "#                 dataframe = new_dataframe.copy()\n",
    "#\n",
    "#             dataframe.to_csv('datasets/scissor.csv', header=True, index=None)\n",
    "#\n",
    "#         # Flip the image horizontally for a selfie-view display.\n",
    "#         cv2.imshow('MediaPipe Hands', cv2.flip(image, 1))\n",
    "#\n",
    "#         if cv2.waitKey(5) & 0xFF == 27:\n",
    "#             break\n",
    "#\n",
    "# cap.release()\n",
    "# cv2.destroyAllWindows()"
   ]
  },
  {
   "cell_type": "code",
   "execution_count": 2,
   "outputs": [
    {
     "name": "stdout",
     "output_type": "stream",
     "text": [
      "[[0. 1. 0.]\n",
      " [0. 1. 0.]\n",
      " [0. 0. 1.]\n",
      " ...\n",
      " [0. 1. 0.]\n",
      " [0. 0. 1.]\n",
      " [1. 0. 0.]]\n"
     ]
    },
    {
     "data": {
      "text/plain": "      landmark_0_x  landmark_0_y  landmark_0_z  landmark_1_x  landmark_1_y  \\\n2091      0.259880      0.718616 -7.395191e-09      0.315999      0.661813   \n1226      0.323546      0.646133  1.781516e-09      0.396208      0.666009   \n4505      0.196900      0.717888  2.353875e-08      0.289232      0.711417   \n2979      0.263417      0.873160 -4.279606e-09      0.336139      0.916796   \n28        0.045223      0.867703  7.977726e-09      0.134415      0.850254   \n...            ...           ...           ...           ...           ...   \n303       0.158857      0.809667 -5.348196e-10      0.211934      0.826210   \n3780      0.201661      0.910321  1.419956e-08      0.181596      0.747530   \n1501      0.254250      0.725288  1.214137e-08      0.351195      0.685697   \n641       0.337069      0.671287  7.755495e-09      0.322978      0.577383   \n5569      0.321310      0.676830 -6.645490e-09      0.386508      0.719450   \n\n      landmark_1_z  landmark_2_x  landmark_2_y  landmark_2_z  landmark_3_x  \\\n2091     -0.041929      0.343533      0.567392     -0.092445      0.317869   \n1226     -0.041564      0.477967      0.574853     -0.049162      0.492521   \n4505     -0.091002      0.364870      0.659156     -0.161918      0.425242   \n2979     -0.049576      0.394618      0.926390     -0.104429      0.391686   \n28       -0.049195      0.196680      0.771972     -0.060397      0.231370   \n...            ...           ...           ...           ...           ...   \n303      -0.057776      0.258934      0.776542     -0.106172      0.247559   \n3780      0.097587      0.215379      0.658554      0.119648      0.270224   \n1501     -0.033605      0.431293      0.612948     -0.066773      0.493455   \n641       0.074658      0.339835      0.498661      0.099559      0.380532   \n5569     -0.056604      0.475144      0.715216     -0.082739      0.523845   \n\n      ...  landmark_17_z  landmark_18_x  landmark_18_y  landmark_18_z  \\\n2091  ...      -0.167427       0.235774       0.609886      -0.205680   \n1226  ...      -0.021132       0.335030       0.428597      -0.037826   \n4505  ...      -0.162203       0.064267       0.389431      -0.218985   \n2979  ...      -0.159569       0.295976       0.764709      -0.193082   \n28    ...       0.012851       0.003400       0.579279      -0.011681   \n...   ...            ...            ...            ...            ...   \n303   ...      -0.129145       0.134556       0.691431      -0.166409   \n3780  ...      -0.052303       0.360946       0.681247       0.018128   \n1501  ...      -0.115875       0.154929       0.363016      -0.143876   \n641   ...      -0.041275       0.459821       0.498589      -0.008379   \n5569  ...      -0.063160       0.429374       0.479395      -0.086498   \n\n      landmark_19_x  landmark_19_y  landmark_19_z  landmark_20_x  \\\n2091       0.288974       0.659977      -0.205095       0.316659   \n1226       0.333588       0.506293      -0.035486       0.332475   \n4505       0.027870       0.332390      -0.255592       0.001277   \n2979       0.279978       0.835784      -0.196676       0.274712   \n28         0.006675       0.525658      -0.035229       0.009887   \n...             ...            ...            ...            ...   \n303        0.142683       0.761675      -0.170069       0.147386   \n3780       0.337450       0.715490       0.070214       0.323698   \n1501       0.122884       0.302378      -0.164699       0.097286   \n641        0.451756       0.538904       0.007469       0.432532   \n5569       0.401299       0.538532      -0.085045       0.410353   \n\n      landmark_20_y  landmark_20_z  \n2091       0.690164      -0.200432  \n1226       0.526006      -0.025577  \n4505       0.273081      -0.285465  \n2979       0.872989      -0.194551  \n28         0.480943      -0.050859  \n...             ...            ...  \n303        0.804038      -0.167626  \n3780       0.748856       0.101228  \n1501       0.237445      -0.183290  \n641        0.553627       0.010893  \n5569       0.554334      -0.076200  \n\n[12833 rows x 63 columns]",
      "text/html": "<div>\n<style scoped>\n    .dataframe tbody tr th:only-of-type {\n        vertical-align: middle;\n    }\n\n    .dataframe tbody tr th {\n        vertical-align: top;\n    }\n\n    .dataframe thead th {\n        text-align: right;\n    }\n</style>\n<table border=\"1\" class=\"dataframe\">\n  <thead>\n    <tr style=\"text-align: right;\">\n      <th></th>\n      <th>landmark_0_x</th>\n      <th>landmark_0_y</th>\n      <th>landmark_0_z</th>\n      <th>landmark_1_x</th>\n      <th>landmark_1_y</th>\n      <th>landmark_1_z</th>\n      <th>landmark_2_x</th>\n      <th>landmark_2_y</th>\n      <th>landmark_2_z</th>\n      <th>landmark_3_x</th>\n      <th>...</th>\n      <th>landmark_17_z</th>\n      <th>landmark_18_x</th>\n      <th>landmark_18_y</th>\n      <th>landmark_18_z</th>\n      <th>landmark_19_x</th>\n      <th>landmark_19_y</th>\n      <th>landmark_19_z</th>\n      <th>landmark_20_x</th>\n      <th>landmark_20_y</th>\n      <th>landmark_20_z</th>\n    </tr>\n  </thead>\n  <tbody>\n    <tr>\n      <th>2091</th>\n      <td>0.259880</td>\n      <td>0.718616</td>\n      <td>-7.395191e-09</td>\n      <td>0.315999</td>\n      <td>0.661813</td>\n      <td>-0.041929</td>\n      <td>0.343533</td>\n      <td>0.567392</td>\n      <td>-0.092445</td>\n      <td>0.317869</td>\n      <td>...</td>\n      <td>-0.167427</td>\n      <td>0.235774</td>\n      <td>0.609886</td>\n      <td>-0.205680</td>\n      <td>0.288974</td>\n      <td>0.659977</td>\n      <td>-0.205095</td>\n      <td>0.316659</td>\n      <td>0.690164</td>\n      <td>-0.200432</td>\n    </tr>\n    <tr>\n      <th>1226</th>\n      <td>0.323546</td>\n      <td>0.646133</td>\n      <td>1.781516e-09</td>\n      <td>0.396208</td>\n      <td>0.666009</td>\n      <td>-0.041564</td>\n      <td>0.477967</td>\n      <td>0.574853</td>\n      <td>-0.049162</td>\n      <td>0.492521</td>\n      <td>...</td>\n      <td>-0.021132</td>\n      <td>0.335030</td>\n      <td>0.428597</td>\n      <td>-0.037826</td>\n      <td>0.333588</td>\n      <td>0.506293</td>\n      <td>-0.035486</td>\n      <td>0.332475</td>\n      <td>0.526006</td>\n      <td>-0.025577</td>\n    </tr>\n    <tr>\n      <th>4505</th>\n      <td>0.196900</td>\n      <td>0.717888</td>\n      <td>2.353875e-08</td>\n      <td>0.289232</td>\n      <td>0.711417</td>\n      <td>-0.091002</td>\n      <td>0.364870</td>\n      <td>0.659156</td>\n      <td>-0.161918</td>\n      <td>0.425242</td>\n      <td>...</td>\n      <td>-0.162203</td>\n      <td>0.064267</td>\n      <td>0.389431</td>\n      <td>-0.218985</td>\n      <td>0.027870</td>\n      <td>0.332390</td>\n      <td>-0.255592</td>\n      <td>0.001277</td>\n      <td>0.273081</td>\n      <td>-0.285465</td>\n    </tr>\n    <tr>\n      <th>2979</th>\n      <td>0.263417</td>\n      <td>0.873160</td>\n      <td>-4.279606e-09</td>\n      <td>0.336139</td>\n      <td>0.916796</td>\n      <td>-0.049576</td>\n      <td>0.394618</td>\n      <td>0.926390</td>\n      <td>-0.104429</td>\n      <td>0.391686</td>\n      <td>...</td>\n      <td>-0.159569</td>\n      <td>0.295976</td>\n      <td>0.764709</td>\n      <td>-0.193082</td>\n      <td>0.279978</td>\n      <td>0.835784</td>\n      <td>-0.196676</td>\n      <td>0.274712</td>\n      <td>0.872989</td>\n      <td>-0.194551</td>\n    </tr>\n    <tr>\n      <th>28</th>\n      <td>0.045223</td>\n      <td>0.867703</td>\n      <td>7.977726e-09</td>\n      <td>0.134415</td>\n      <td>0.850254</td>\n      <td>-0.049195</td>\n      <td>0.196680</td>\n      <td>0.771972</td>\n      <td>-0.060397</td>\n      <td>0.231370</td>\n      <td>...</td>\n      <td>0.012851</td>\n      <td>0.003400</td>\n      <td>0.579279</td>\n      <td>-0.011681</td>\n      <td>0.006675</td>\n      <td>0.525658</td>\n      <td>-0.035229</td>\n      <td>0.009887</td>\n      <td>0.480943</td>\n      <td>-0.050859</td>\n    </tr>\n    <tr>\n      <th>...</th>\n      <td>...</td>\n      <td>...</td>\n      <td>...</td>\n      <td>...</td>\n      <td>...</td>\n      <td>...</td>\n      <td>...</td>\n      <td>...</td>\n      <td>...</td>\n      <td>...</td>\n      <td>...</td>\n      <td>...</td>\n      <td>...</td>\n      <td>...</td>\n      <td>...</td>\n      <td>...</td>\n      <td>...</td>\n      <td>...</td>\n      <td>...</td>\n      <td>...</td>\n      <td>...</td>\n    </tr>\n    <tr>\n      <th>303</th>\n      <td>0.158857</td>\n      <td>0.809667</td>\n      <td>-5.348196e-10</td>\n      <td>0.211934</td>\n      <td>0.826210</td>\n      <td>-0.057776</td>\n      <td>0.258934</td>\n      <td>0.776542</td>\n      <td>-0.106172</td>\n      <td>0.247559</td>\n      <td>...</td>\n      <td>-0.129145</td>\n      <td>0.134556</td>\n      <td>0.691431</td>\n      <td>-0.166409</td>\n      <td>0.142683</td>\n      <td>0.761675</td>\n      <td>-0.170069</td>\n      <td>0.147386</td>\n      <td>0.804038</td>\n      <td>-0.167626</td>\n    </tr>\n    <tr>\n      <th>3780</th>\n      <td>0.201661</td>\n      <td>0.910321</td>\n      <td>1.419956e-08</td>\n      <td>0.181596</td>\n      <td>0.747530</td>\n      <td>0.097587</td>\n      <td>0.215379</td>\n      <td>0.658554</td>\n      <td>0.119648</td>\n      <td>0.270224</td>\n      <td>...</td>\n      <td>-0.052303</td>\n      <td>0.360946</td>\n      <td>0.681247</td>\n      <td>0.018128</td>\n      <td>0.337450</td>\n      <td>0.715490</td>\n      <td>0.070214</td>\n      <td>0.323698</td>\n      <td>0.748856</td>\n      <td>0.101228</td>\n    </tr>\n    <tr>\n      <th>1501</th>\n      <td>0.254250</td>\n      <td>0.725288</td>\n      <td>1.214137e-08</td>\n      <td>0.351195</td>\n      <td>0.685697</td>\n      <td>-0.033605</td>\n      <td>0.431293</td>\n      <td>0.612948</td>\n      <td>-0.066773</td>\n      <td>0.493455</td>\n      <td>...</td>\n      <td>-0.115875</td>\n      <td>0.154929</td>\n      <td>0.363016</td>\n      <td>-0.143876</td>\n      <td>0.122884</td>\n      <td>0.302378</td>\n      <td>-0.164699</td>\n      <td>0.097286</td>\n      <td>0.237445</td>\n      <td>-0.183290</td>\n    </tr>\n    <tr>\n      <th>641</th>\n      <td>0.337069</td>\n      <td>0.671287</td>\n      <td>7.755495e-09</td>\n      <td>0.322978</td>\n      <td>0.577383</td>\n      <td>0.074658</td>\n      <td>0.339835</td>\n      <td>0.498661</td>\n      <td>0.099559</td>\n      <td>0.380532</td>\n      <td>...</td>\n      <td>-0.041275</td>\n      <td>0.459821</td>\n      <td>0.498589</td>\n      <td>-0.008379</td>\n      <td>0.451756</td>\n      <td>0.538904</td>\n      <td>0.007469</td>\n      <td>0.432532</td>\n      <td>0.553627</td>\n      <td>0.010893</td>\n    </tr>\n    <tr>\n      <th>5569</th>\n      <td>0.321310</td>\n      <td>0.676830</td>\n      <td>-6.645490e-09</td>\n      <td>0.386508</td>\n      <td>0.719450</td>\n      <td>-0.056604</td>\n      <td>0.475144</td>\n      <td>0.715216</td>\n      <td>-0.082739</td>\n      <td>0.523845</td>\n      <td>...</td>\n      <td>-0.063160</td>\n      <td>0.429374</td>\n      <td>0.479395</td>\n      <td>-0.086498</td>\n      <td>0.401299</td>\n      <td>0.538532</td>\n      <td>-0.085045</td>\n      <td>0.410353</td>\n      <td>0.554334</td>\n      <td>-0.076200</td>\n    </tr>\n  </tbody>\n</table>\n<p>12833 rows × 63 columns</p>\n</div>"
     },
     "execution_count": 2,
     "metadata": {},
     "output_type": "execute_result"
    }
   ],
   "source": [
    "from sklearn.preprocessing import OneHotEncoder\n",
    "from sklearn.model_selection import train_test_split\n",
    "\n",
    "rock = pd.read_csv('datasets/rock.csv')\n",
    "scissor = pd.read_csv('datasets/scissor.csv')\n",
    "paper = pd.read_csv('datasets/paper.csv')\n",
    "\n",
    "original_dataframe = pd.concat((rock, paper, scissor))\n",
    "original_dataframe = original_dataframe.sample(frac=1)\n",
    "\n",
    "x = original_dataframe.drop('target', axis=1)\n",
    "y = original_dataframe['target']\n",
    "\n",
    "one_hot = OneHotEncoder(sparse_output=False)\n",
    "y = one_hot.fit_transform(y.to_numpy().reshape(-1, 1))\n",
    "\n",
    "print(y)\n",
    "train_x, test_x, train_y, test_y = train_test_split(x, y, train_size=0.7)\n",
    "\n",
    "test_x, ev_x, test_y, ev_y = train_test_split(x, y, train_size=0.7)\n",
    "\n",
    "train_x"
   ],
   "metadata": {
    "collapsed": false
   }
  },
  {
   "cell_type": "code",
   "execution_count": 3,
   "outputs": [],
   "source": [
    "from keras.layers import MaxPooling2D, Flatten, Dense, Dropout, Convolution2D\n",
    "from keras import Sequential\n",
    "import tensorflow as tf\n",
    "\n",
    "model = Sequential()\n",
    "model.add(Dense(63, activation='relu'))\n",
    "model.add(Dense(10, activation='relu'))\n",
    "model.add(Dense(3, activation='softmax'))\n"
   ],
   "metadata": {
    "collapsed": false
   }
  },
  {
   "cell_type": "code",
   "execution_count": 4,
   "outputs": [
    {
     "name": "stdout",
     "output_type": "stream",
     "text": [
      "(18333, 63)\n"
     ]
    }
   ],
   "source": [
    "print(x.shape)"
   ],
   "metadata": {
    "collapsed": false
   }
  },
  {
   "cell_type": "code",
   "execution_count": 5,
   "outputs": [],
   "source": [
    "model.compile(optimizer='Adam', loss='categorical_crossentropy', metrics=['Accuracy'])"
   ],
   "metadata": {
    "collapsed": false
   }
  },
  {
   "cell_type": "code",
   "execution_count": 6,
   "outputs": [
    {
     "name": "stdout",
     "output_type": "stream",
     "text": [
      "Epoch 1/10\n",
      "402/402 [==============================] - 1s 2ms/step - loss: 0.3599 - Accuracy: 0.9303 - val_loss: 0.0512 - val_Accuracy: 0.9964\n",
      "Epoch 2/10\n",
      "402/402 [==============================] - 1s 1ms/step - loss: 0.0257 - Accuracy: 0.9974 - val_loss: 0.0137 - val_Accuracy: 0.9964\n",
      "Epoch 3/10\n",
      "402/402 [==============================] - 1s 1ms/step - loss: 0.0091 - Accuracy: 0.9992 - val_loss: 0.0058 - val_Accuracy: 1.0000\n",
      "Epoch 4/10\n",
      "402/402 [==============================] - 1s 1ms/step - loss: 0.0053 - Accuracy: 0.9995 - val_loss: 0.0031 - val_Accuracy: 1.0000\n",
      "Epoch 5/10\n",
      "402/402 [==============================] - 0s 1ms/step - loss: 0.0027 - Accuracy: 1.0000 - val_loss: 0.0019 - val_Accuracy: 1.0000\n",
      "Epoch 6/10\n",
      "402/402 [==============================] - 1s 1ms/step - loss: 0.0017 - Accuracy: 1.0000 - val_loss: 0.0012 - val_Accuracy: 1.0000\n",
      "Epoch 7/10\n",
      "402/402 [==============================] - 0s 1ms/step - loss: 0.0011 - Accuracy: 1.0000 - val_loss: 8.3340e-04 - val_Accuracy: 1.0000\n",
      "Epoch 8/10\n",
      "402/402 [==============================] - 0s 1ms/step - loss: 7.4031e-04 - Accuracy: 1.0000 - val_loss: 6.0943e-04 - val_Accuracy: 1.0000\n",
      "Epoch 9/10\n",
      "402/402 [==============================] - 0s 1ms/step - loss: 5.6229e-04 - Accuracy: 1.0000 - val_loss: 0.0028 - val_Accuracy: 1.0000\n",
      "Epoch 10/10\n",
      "402/402 [==============================] - 0s 1ms/step - loss: 0.0012 - Accuracy: 0.9996 - val_loss: 3.3410e-04 - val_Accuracy: 1.0000\n"
     ]
    },
    {
     "data": {
      "text/plain": "<keras.callbacks.History at 0x129cdef5a80>"
     },
     "execution_count": 6,
     "metadata": {},
     "output_type": "execute_result"
    }
   ],
   "source": [
    "model.fit(train_x, train_y, validation_data=(test_x, test_y), epochs=10)"
   ],
   "metadata": {
    "collapsed": false
   }
  },
  {
   "cell_type": "code",
   "execution_count": 7,
   "outputs": [
    {
     "name": "stdout",
     "output_type": "stream",
     "text": [
      "1/1 [==============================] - 0s 58ms/step\n",
      "[[9.9991632e-01 4.3164032e-06 7.9348756e-05]]\n",
      "[1. 0. 0.]\n",
      "1/1 [==============================] - 0s 14ms/step\n",
      "[[9.9835497e-01 1.9592517e-05 1.6254087e-03]]\n",
      "[1. 0. 0.]\n",
      "1/1 [==============================] - 0s 14ms/step\n",
      "[[2.7660133e-07 9.9999833e-01 1.4740193e-06]]\n",
      "[0. 1. 0.]\n"
     ]
    }
   ],
   "source": [
    "predict = ev_x.iloc[0].to_numpy().reshape(1, -1)\n",
    "print(model.predict(predict))\n",
    "print(ev_y[0])\n",
    "\n",
    "predict = ev_x.iloc[10].to_numpy().reshape(1, -1)\n",
    "print(model.predict(predict))\n",
    "print(ev_y[10])\n",
    "\n",
    "predict = ev_x.iloc[13].to_numpy().reshape(1, -1)\n",
    "print(model.predict(predict))\n",
    "print(ev_y[13])"
   ],
   "metadata": {
    "collapsed": false
   }
  },
  {
   "cell_type": "code",
   "execution_count": 18,
   "outputs": [
    {
     "name": "stdout",
     "output_type": "stream",
     "text": [
      "1/1 [==============================] - 0s 14ms/step\n",
      "0\n",
      "1/1 [==============================] - 0s 14ms/step\n",
      "0\n",
      "1/1 [==============================] - 0s 13ms/step\n",
      "2\n",
      "1/1 [==============================] - 0s 13ms/step\n",
      "0\n",
      "1/1 [==============================] - 0s 14ms/step\n",
      "1\n",
      "1/1 [==============================] - 0s 14ms/step\n",
      "0\n",
      "1/1 [==============================] - 0s 13ms/step\n",
      "1\n",
      "1/1 [==============================] - 0s 13ms/step\n",
      "2\n",
      "1/1 [==============================] - 0s 13ms/step\n",
      "0\n",
      "1/1 [==============================] - 0s 14ms/step\n",
      "1\n"
     ]
    },
    {
     "ename": "KeyboardInterrupt",
     "evalue": "",
     "output_type": "error",
     "traceback": [
      "\u001B[1;31m---------------------------------------------------------------------------\u001B[0m",
      "\u001B[1;31mKeyboardInterrupt\u001B[0m                         Traceback (most recent call last)",
      "Cell \u001B[1;32mIn[18], line 102\u001B[0m\n\u001B[0;32m    100\u001B[0m \u001B[38;5;28;01mwhile\u001B[39;00m cap\u001B[38;5;241m.\u001B[39misOpened():\n\u001B[0;32m    101\u001B[0m     count \u001B[38;5;241m+\u001B[39m\u001B[38;5;241m=\u001B[39m \u001B[38;5;241m1\u001B[39m\n\u001B[1;32m--> 102\u001B[0m     success, image \u001B[38;5;241m=\u001B[39m \u001B[43mcap\u001B[49m\u001B[38;5;241;43m.\u001B[39;49m\u001B[43mread\u001B[49m\u001B[43m(\u001B[49m\u001B[43m)\u001B[49m\n\u001B[0;32m    104\u001B[0m     image \u001B[38;5;241m=\u001B[39m cv2\u001B[38;5;241m.\u001B[39mflip(image, \u001B[38;5;241m1\u001B[39m)\n\u001B[0;32m    105\u001B[0m     image \u001B[38;5;241m=\u001B[39m cv2\u001B[38;5;241m.\u001B[39mcvtColor(image, cv2\u001B[38;5;241m.\u001B[39mCOLOR_BGR2RGB)\n",
      "\u001B[1;31mKeyboardInterrupt\u001B[0m: "
     ]
    }
   ],
   "source": [
    "import numpy as np\n",
    "\n",
    "def get_machine_move():\n",
    "    return np.random.choice([0,1,2])\n",
    "\n",
    "def check_move(imagen, machine_move, prediction):\n",
    "    if machine_move == 0:\n",
    "        if prediction == 0:\n",
    "            text = 'hemos empatado yo he sacado' + type_predict[machine_move]\n",
    "\n",
    "            cv2.putText(imagen, text, (0, 100), font,\n",
    "                            fontScale, color, thickness, cv2.LINE_AA)\n",
    "\n",
    "            return text\n",
    "\n",
    "        elif prediction == 1:\n",
    "            text = 'has ganado yo he sacado ' + type_predict[machine_move]\n",
    "\n",
    "            cv2.putText(image, text, (0, 100), font,\n",
    "                            fontScale, color, thickness, cv2.LINE_AA)\n",
    "\n",
    "            return text\n",
    "\n",
    "        else:\n",
    "            text = 'has perdido yo he sacado ' + type_predict[machine_move]\n",
    "\n",
    "            cv2.putText(image, text, (0, 100), font,\n",
    "                            fontScale, color, thickness, cv2.LINE_AA)\n",
    "            return text\n",
    "\n",
    "    elif machine_move == 1:\n",
    "        if prediction == 0:\n",
    "            text = 'has perdido yo he sacado ' + type_predict[machine_move]\n",
    "\n",
    "            cv2.putText(image, text, (0, 100), font,\n",
    "                            fontScale, color, thickness, cv2.LINE_AA)\n",
    "\n",
    "            return text\n",
    "\n",
    "        elif prediction == 1:\n",
    "            text = 'hemos empatado yo he sacado' + type_predict[machine_move]\n",
    "\n",
    "            cv2.putText(image, text, (0, 100), font,\n",
    "                            fontScale, color, thickness, cv2.LINE_AA)\n",
    "\n",
    "            return text\n",
    "        else:\n",
    "            text = 'has ganado yo he sacado' + type_predict[machine_move]\n",
    "\n",
    "            cv2.putText(image, text, (0, 100), font,\n",
    "                            fontScale, color, thickness, cv2.LINE_AA)\n",
    "            return text\n",
    "\n",
    "    else:\n",
    "        if prediction == 0:\n",
    "            text = 'has ganado yo he sacado' + type_predict[machine_move]\n",
    "\n",
    "            cv2.putText(image, text, (0, 100), font,\n",
    "                            fontScale, color, thickness, cv2.LINE_AA)\n",
    "            return text\n",
    "\n",
    "        elif prediction == 1:\n",
    "            text = 'has perdido yo he sacado' + type_predict[machine_move]\n",
    "\n",
    "            cv2.putText(image, text, (0, 100), font,\n",
    "                            fontScale, color, thickness, cv2.LINE_AA)\n",
    "            return text\n",
    "        else:\n",
    "            text = 'hemos empatado yo he sacado' + type_predict[machine_move]\n",
    "\n",
    "            cv2.putText(image, text, (0, 100), font,\n",
    "                            fontScale, color, thickness, cv2.LINE_AA)\n",
    "\n",
    "            return text\n",
    "\n",
    "\n",
    "mp_drawing = mp.solutions.drawing_utils\n",
    "mp_drawing_styles = mp.solutions.drawing_styles\n",
    "mp_hands = mp.solutions.hands\n",
    "type_predict = {0: 'rock', 1:'paper', 2:'scissors'}\n",
    "image_predict = {0: cv2.imread(\"filtros/piedra.jpg\"), 1:cv2.imread(\"filtros/paper.jpg\"), 2:cv2.imread(\"filtros/tijeras.jpg\")}\n",
    "font = cv2.FONT_HERSHEY_SIMPLEX\n",
    "fontScale = 1\n",
    "color = (0, 0, 0)\n",
    "thickness = 1\n",
    "wait = False\n",
    "dataframe = None\n",
    "count = 0\n",
    "cap = cv2.VideoCapture(0)\n",
    "timer = 3\n",
    "wait_5_seconds = False\n",
    "win_text = ''\n",
    "win_image = np.array([])\n",
    "\n",
    "with mp_hands.Hands(\n",
    "        model_complexity=0,\n",
    "        min_detection_confidence=0.5,\n",
    "        min_tracking_confidence=0.5) as hands:\n",
    "\n",
    "    while cap.isOpened():\n",
    "        count += 1\n",
    "        success, image = cap.read()\n",
    "\n",
    "        image = cv2.flip(image, 1)\n",
    "        image = cv2.cvtColor(image, cv2.COLOR_BGR2RGB)\n",
    "        cv2.putText(image, str(timer), (int(image.shape[1]/2), int(image.shape[0]/2)), font, fontScale, color, thickness, cv2.LINE_AA)\n",
    "\n",
    "        if wait_5_seconds and count < 200:\n",
    "            cv2.putText(image, win_text, (0, 100), font,\n",
    "                            fontScale, color, thickness, cv2.LINE_AA)\n",
    "\n",
    "        elif count >= 200 and wait_5_seconds:\n",
    "            wait_5_seconds = False\n",
    "            count = 0\n",
    "            timer = 3\n",
    "            win_text = ''\n",
    "            win_image = np.array([])\n",
    "\n",
    "        if count >= 30 and timer > 0:\n",
    "            timer-=1\n",
    "            count = 0\n",
    "\n",
    "        if timer == 0 and not wait_5_seconds:\n",
    "            results = hands.process(image)\n",
    "\n",
    "            landmarks_hand = {}\n",
    "\n",
    "            if results.multi_hand_landmarks:\n",
    "\n",
    "                for index, landmark in enumerate(results.multi_hand_landmarks[0].landmark):\n",
    "                    x = landmark.x\n",
    "                    y = landmark.y\n",
    "                    z = landmark.z\n",
    "\n",
    "                    landmarks_hand[f'landmark_{index}_x'] = x\n",
    "                    landmarks_hand[f'landmark_{index}_y'] = y\n",
    "                    landmarks_hand[f'landmark_{index}_z'] = z\n",
    "\n",
    "                machine_move = get_machine_move()\n",
    "\n",
    "                predict = np.array(list(landmarks_hand.values())).reshape(1, -1)\n",
    "                predict = np.argmax(model.predict(predict))\n",
    "                print(predict)\n",
    "                win_text = check_move(image, machine_move, predict)\n",
    "\n",
    "                win_image = image_predict[machine_move]\n",
    "                win_image = cv2.resize(win_image, (200, 200))\n",
    "                cv2.imshow('Machine', win_image)\n",
    "\n",
    "                count = 0\n",
    "                wait_5_seconds = True\n",
    "\n",
    "        cv2.imshow('MediaPipe Hands', image)\n",
    "        if cv2.waitKey(5) & 0xFF == 27:\n",
    "            break\n",
    "\n",
    "cap.release()\n",
    "cv2.destroyAllWindows()"
   ],
   "metadata": {
    "collapsed": false
   }
  },
  {
   "cell_type": "code",
   "execution_count": 8,
   "outputs": [],
   "source": [],
   "metadata": {
    "collapsed": false
   }
  }
 ],
 "metadata": {
  "kernelspec": {
   "display_name": "Python 3",
   "language": "python",
   "name": "python3"
  },
  "language_info": {
   "codemirror_mode": {
    "name": "ipython",
    "version": 2
   },
   "file_extension": ".py",
   "mimetype": "text/x-python",
   "name": "python",
   "nbconvert_exporter": "python",
   "pygments_lexer": "ipython2",
   "version": "2.7.6"
  }
 },
 "nbformat": 4,
 "nbformat_minor": 0
}
