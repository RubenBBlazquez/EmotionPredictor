{
 "cells": [
  {
   "cell_type": "markdown",
   "source": [
    "![](../../../../Documents/Screenshots/screenshot.286.jpg)\n",
    "![](../../../../Documents/Screenshots/screenshot.284.jpg)\n"
   ],
   "metadata": {
    "collapsed": false
   }
  },
  {
   "cell_type": "code",
   "execution_count": null,
   "outputs": [],
   "source": [
    "from tensorflow.python.ops.init_ops_v2 import glorot_uniform\n",
    "from keras.layers import ZeroPadding2D, Conv2D, BatchNormalization, Activation, MaxPooling2D, AveragePooling2D, Flatten, \\\n",
    "    Dense, Dropout\n",
    "from keras import Sequential\n",
    "\n",
    "shape = (96, 96, 1)\n",
    "\n",
    "\n",
    "def convolutional_block():\n",
    "    return [\n",
    "        Conv2D(64, (3, 3)),\n",
    "        MaxPooling2D((3, 3)),\n",
    "        BatchNormalization(axis=3),\n",
    "        Activation('relu'),\n",
    "        Conv2D(64, (3, 3), kernel_initializer=glorot_uniform(seed=0)),\n",
    "        BatchNormalization(axis=3),\n",
    "        Activation('relu'),\n",
    "        Conv2D(64, (3, 3)),\n",
    "        BatchNormalization(axis=3),\n",
    "\n",
    "        Conv2D(64, (3, 3)),\n",
    "        MaxPooling2D((3, 3)),\n",
    "        BatchNormalization(axis=3),\n",
    "\n",
    "        Activation('relu')\n",
    "    ]\n",
    "\n",
    "\n",
    "def identity_block():\n",
    "    return [\n",
    "        Conv2D(64, (3, 3)),\n",
    "        BatchNormalization(axis=3),\n",
    "        Activation('relu'),\n",
    "\n",
    "        Conv2D(64, (3, 3), kernel_initializer=glorot_uniform(seed=0)),\n",
    "        BatchNormalization(axis=3),\n",
    "        Activation('relu'),\n",
    "\n",
    "        Conv2D(64, (3, 3)),\n",
    "        BatchNormalization(axis=3),\n",
    "        Activation('relu')\n",
    "    ]\n",
    "\n",
    "\n",
    "def res_block(model):\n",
    "    layers = []\n",
    "\n",
    "    layers.extend(convolutional_block())\n",
    "    layers.extend(identity_block())\n",
    "    layers.extend(identity_block())\n",
    "\n",
    "    for layer in layers:\n",
    "        model.add(layer)\n",
    "\n",
    "\n",
    "def resnet():\n",
    "    model = Sequential()\n",
    "    model.add(ZeroPadding2D((3, 3), input_shape=shape))\n",
    "    model.add(Conv2D(64, (3, 3), name='conv1'))\n",
    "    model.add(BatchNormalization(axis=3, name='bn_conv1'))\n",
    "    model.add(Activation('relu'))\n",
    "    model.add(MaxPooling2D((3, 3)))\n",
    "\n",
    "    res_block(model)\n",
    "    res_block(model)\n",
    "\n",
    "    model.add(AveragePooling2D((2, 2), name='avg_pool'))\n",
    "    model.add(Flatten())\n",
    "\n",
    "    model.add(Dense(150))\n",
    "    model.add(Activation('relu'))\n",
    "    model.add(Dropout(0.5))\n",
    "\n",
    "    model.add(Dense(150))\n",
    "    model.add(Activation('relu'))\n",
    "    model.add(Dropout(0.5))\n",
    "\n",
    "    model.add(Dense(150))\n",
    "    model.add(Activation('relu'))\n",
    "\n",
    "    model.add(Flatten())\n",
    "    model.add(Dense(5, activation='softmax', ker))"
   ],
   "metadata": {
    "collapsed": false
   }
  }
 ],
 "metadata": {
  "kernelspec": {
   "display_name": "Python 3",
   "language": "python",
   "name": "python3"
  },
  "language_info": {
   "codemirror_mode": {
    "name": "ipython",
    "version": 2
   },
   "file_extension": ".py",
   "mimetype": "text/x-python",
   "name": "python",
   "nbconvert_exporter": "python",
   "pygments_lexer": "ipython2",
   "version": "2.7.6"
  }
 },
 "nbformat": 4,
 "nbformat_minor": 0
}
