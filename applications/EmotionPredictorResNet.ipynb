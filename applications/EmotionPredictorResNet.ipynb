{
 "cells": [
  {
   "cell_type": "markdown",
   "source": [
    "![](../../../../Documents/Screenshots/screenshot.286.jpg)\n",
    "![](../../../../Documents/Screenshots/screenshot.284.jpg)"
   ],
   "metadata": {
    "collapsed": false
   }
  },
  {
   "cell_type": "code",
   "execution_count": 2,
   "outputs": [],
   "source": [
    "import numpy as np\n",
    "import pandas as pd\n",
    "from sklearn.model_selection import train_test_split\n",
    "from keras.callbacks import ModelCheckpoint\n",
    "\n",
    "NEURAL_NETWORK_TYPE = 'resnet'\n",
    "shape = (105, 105, 1)\n"
   ],
   "metadata": {
    "collapsed": false
   }
  },
  {
   "cell_type": "code",
   "execution_count": 5,
   "outputs": [
    {
     "name": "stdout",
     "output_type": "stream",
     "text": [
      "Model: \"sequential\"\n",
      "_________________________________________________________________\n",
      " Layer (type)                Output Shape              Param #   \n",
      "=================================================================\n",
      " zero_padding2d (ZeroPadding  (None, 111, 111, 1)      0         \n",
      " 2D)                                                             \n",
      "                                                                 \n",
      " conv1 (Conv2D)              (None, 53, 53, 64)        3200      \n",
      "                                                                 \n",
      " bn_conv1 (BatchNormalizatio  (None, 53, 53, 64)       256       \n",
      " n)                                                              \n",
      "                                                                 \n",
      " activation (Activation)     (None, 53, 53, 64)        0         \n",
      "                                                                 \n",
      " max_pooling2d (MaxPooling2D  (None, 26, 26, 64)       0         \n",
      " )                                                               \n",
      "                                                                 \n",
      " conv2d (Conv2D)             (None, 26, 26, 64)        4160      \n",
      "                                                                 \n",
      " max_pooling2d_1 (MaxPooling  (None, 13, 13, 64)       0         \n",
      " 2D)                                                             \n",
      "                                                                 \n",
      " batch_normalization (BatchN  (None, 13, 13, 64)       256       \n",
      " ormalization)                                                   \n",
      "                                                                 \n",
      " activation_1 (Activation)   (None, 13, 13, 64)        0         \n",
      "                                                                 \n",
      " conv2d_1 (Conv2D)           (None, 13, 13, 64)        36928     \n",
      "                                                                 \n",
      " batch_normalization_1 (Batc  (None, 13, 13, 64)       256       \n",
      " hNormalization)                                                 \n",
      "                                                                 \n",
      " activation_2 (Activation)   (None, 13, 13, 64)        0         \n",
      "                                                                 \n",
      " conv2d_2 (Conv2D)           (None, 13, 13, 256)       16640     \n",
      "                                                                 \n",
      " batch_normalization_2 (Batc  (None, 13, 13, 256)      1024      \n",
      " hNormalization)                                                 \n",
      "                                                                 \n",
      " conv2d_3 (Conv2D)           (None, 13, 13, 256)       65792     \n",
      "                                                                 \n",
      " max_pooling2d_2 (MaxPooling  (None, 6, 6, 256)        0         \n",
      " 2D)                                                             \n",
      "                                                                 \n",
      " batch_normalization_3 (Batc  (None, 6, 6, 256)        1024      \n",
      " hNormalization)                                                 \n",
      "                                                                 \n",
      " activation_3 (Activation)   (None, 6, 6, 256)         0         \n",
      "                                                                 \n",
      " conv2d_4 (Conv2D)           (None, 6, 6, 64)          16448     \n",
      "                                                                 \n",
      " batch_normalization_4 (Batc  (None, 6, 6, 64)         256       \n",
      " hNormalization)                                                 \n",
      "                                                                 \n",
      " activation_4 (Activation)   (None, 6, 6, 64)          0         \n",
      "                                                                 \n",
      " conv2d_5 (Conv2D)           (None, 6, 6, 64)          36928     \n",
      "                                                                 \n",
      " batch_normalization_5 (Batc  (None, 6, 6, 64)         256       \n",
      " hNormalization)                                                 \n",
      "                                                                 \n",
      " activation_5 (Activation)   (None, 6, 6, 64)          0         \n",
      "                                                                 \n",
      " conv2d_6 (Conv2D)           (None, 6, 6, 256)         16640     \n",
      "                                                                 \n",
      " batch_normalization_6 (Batc  (None, 6, 6, 256)        1024      \n",
      " hNormalization)                                                 \n",
      "                                                                 \n",
      " activation_6 (Activation)   (None, 6, 6, 256)         0         \n",
      "                                                                 \n",
      " conv2d_7 (Conv2D)           (None, 6, 6, 64)          16448     \n",
      "                                                                 \n",
      " batch_normalization_7 (Batc  (None, 6, 6, 64)         256       \n",
      " hNormalization)                                                 \n",
      "                                                                 \n",
      " activation_7 (Activation)   (None, 6, 6, 64)          0         \n",
      "                                                                 \n",
      " conv2d_8 (Conv2D)           (None, 6, 6, 64)          36928     \n",
      "                                                                 \n",
      " batch_normalization_8 (Batc  (None, 6, 6, 64)         256       \n",
      " hNormalization)                                                 \n",
      "                                                                 \n",
      " activation_8 (Activation)   (None, 6, 6, 64)          0         \n",
      "                                                                 \n",
      " conv2d_9 (Conv2D)           (None, 6, 6, 256)         16640     \n",
      "                                                                 \n",
      " batch_normalization_9 (Batc  (None, 6, 6, 256)        1024      \n",
      " hNormalization)                                                 \n",
      "                                                                 \n",
      " activation_9 (Activation)   (None, 6, 6, 256)         0         \n",
      "                                                                 \n",
      " conv2d_10 (Conv2D)          (None, 6, 6, 128)         32896     \n",
      "                                                                 \n",
      " max_pooling2d_3 (MaxPooling  (None, 3, 3, 128)        0         \n",
      " 2D)                                                             \n",
      "                                                                 \n",
      " batch_normalization_10 (Bat  (None, 3, 3, 128)        512       \n",
      " chNormalization)                                                \n",
      "                                                                 \n",
      " activation_10 (Activation)  (None, 3, 3, 128)         0         \n",
      "                                                                 \n",
      " conv2d_11 (Conv2D)          (None, 3, 3, 128)         147584    \n",
      "                                                                 \n",
      " batch_normalization_11 (Bat  (None, 3, 3, 128)        512       \n",
      " chNormalization)                                                \n",
      "                                                                 \n",
      " activation_11 (Activation)  (None, 3, 3, 128)         0         \n",
      "                                                                 \n",
      " conv2d_12 (Conv2D)          (None, 3, 3, 512)         66048     \n",
      "                                                                 \n",
      " batch_normalization_12 (Bat  (None, 3, 3, 512)        2048      \n",
      " chNormalization)                                                \n",
      "                                                                 \n",
      " conv2d_13 (Conv2D)          (None, 3, 3, 512)         262656    \n",
      "                                                                 \n",
      " max_pooling2d_4 (MaxPooling  (None, 1, 1, 512)        0         \n",
      " 2D)                                                             \n",
      "                                                                 \n",
      " batch_normalization_13 (Bat  (None, 1, 1, 512)        2048      \n",
      " chNormalization)                                                \n",
      "                                                                 \n",
      " activation_12 (Activation)  (None, 1, 1, 512)         0         \n",
      "                                                                 \n",
      " conv2d_14 (Conv2D)          (None, 1, 1, 128)         65664     \n",
      "                                                                 \n",
      " batch_normalization_14 (Bat  (None, 1, 1, 128)        512       \n",
      " chNormalization)                                                \n",
      "                                                                 \n",
      " activation_13 (Activation)  (None, 1, 1, 128)         0         \n",
      "                                                                 \n",
      " conv2d_15 (Conv2D)          (None, 1, 1, 128)         147584    \n",
      "                                                                 \n",
      " batch_normalization_15 (Bat  (None, 1, 1, 128)        512       \n",
      " chNormalization)                                                \n",
      "                                                                 \n",
      " activation_14 (Activation)  (None, 1, 1, 128)         0         \n",
      "                                                                 \n",
      " conv2d_16 (Conv2D)          (None, 1, 1, 512)         66048     \n",
      "                                                                 \n",
      " batch_normalization_16 (Bat  (None, 1, 1, 512)        2048      \n",
      " chNormalization)                                                \n",
      "                                                                 \n",
      " activation_15 (Activation)  (None, 1, 1, 512)         0         \n",
      "                                                                 \n",
      " conv2d_17 (Conv2D)          (None, 1, 1, 128)         65664     \n",
      "                                                                 \n",
      " batch_normalization_17 (Bat  (None, 1, 1, 128)        512       \n",
      " chNormalization)                                                \n",
      "                                                                 \n",
      " activation_16 (Activation)  (None, 1, 1, 128)         0         \n",
      "                                                                 \n",
      " conv2d_18 (Conv2D)          (None, 1, 1, 128)         147584    \n",
      "                                                                 \n",
      " batch_normalization_18 (Bat  (None, 1, 1, 128)        512       \n",
      " chNormalization)                                                \n",
      "                                                                 \n",
      " activation_17 (Activation)  (None, 1, 1, 128)         0         \n",
      "                                                                 \n",
      " conv2d_19 (Conv2D)          (None, 1, 1, 512)         66048     \n",
      "                                                                 \n",
      " batch_normalization_19 (Bat  (None, 1, 1, 512)        2048      \n",
      " chNormalization)                                                \n",
      "                                                                 \n",
      " activation_18 (Activation)  (None, 1, 1, 512)         0         \n",
      "                                                                 \n",
      " avg_pool (AveragePooling2D)  (None, 1, 1, 512)        0         \n",
      "                                                                 \n",
      " flatten (Flatten)           (None, 512)               0         \n",
      "                                                                 \n",
      " dropout (Dropout)           (None, 512)               0         \n",
      "                                                                 \n",
      " Dense_final (Dense)         (None, 5)                 2565      \n",
      "                                                                 \n",
      "=================================================================\n",
      "Total params: 1,354,245\n",
      "Trainable params: 1,345,669\n",
      "Non-trainable params: 8,576\n",
      "_________________________________________________________________\n"
     ]
    }
   ],
   "source": [
    "from getNeuralNetworkModel import get_neural_network_model\n",
    "\n",
    "model = get_neural_network_model(NEURAL_NETWORK_TYPE)\n",
    "model.summary()"
   ],
   "metadata": {
    "collapsed": false
   }
  },
  {
   "cell_type": "code",
   "execution_count": 6,
   "outputs": [],
   "source": [
    "model.compile(optimizer='adam', loss='sparse_categorical_crossentropy', metrics=['accuracy'])"
   ],
   "metadata": {
    "collapsed": false
   }
  },
  {
   "cell_type": "code",
   "execution_count": 7,
   "outputs": [
    {
     "data": {
      "text/plain": "       emotion                                             pixels\n0          0.0  0.2744 0.3137 0.3215 0.2825 0.2274 0.2274 0.23...\n1          0.0  0.5923 0.5884 0.5767 0.608 0.5806 0.5215 0.435...\n2          2.0  0.0941 0.1255 0.1412 0.1177 0.1255 0.0902 0.07...\n3          2.0  0.0784 0.06665 0.0745 0.08234 0.098 0.149 0.16...\n4          3.0  0.302 0.306 0.3098 0.3098 0.306 0.2942 0.2354 ...\n...        ...                                                ...\n24563      3.0  0.0 0.153 0.3176 0.3137 0.408 0.3804 0.2 0.251...\n24564      0.0  0.71 0.6943 0.6904 0.612 0.698 0.565 0.533 0.5...\n24565      3.0  0.698 0.682 0.6743 0.678 0.71 0.7373 0.749 0.7...\n24566      0.0  0.06665 0.06665 0.06274 0.0902 0.1098 0.0863 0...\n24567      3.0  0.1177 0.1098 0.1098 0.1137 0.1216 0.1177 0.16...\n\n[24568 rows x 2 columns]",
      "text/html": "<div>\n<style scoped>\n    .dataframe tbody tr th:only-of-type {\n        vertical-align: middle;\n    }\n\n    .dataframe tbody tr th {\n        vertical-align: top;\n    }\n\n    .dataframe thead th {\n        text-align: right;\n    }\n</style>\n<table border=\"1\" class=\"dataframe\">\n  <thead>\n    <tr style=\"text-align: right;\">\n      <th></th>\n      <th>emotion</th>\n      <th>pixels</th>\n    </tr>\n  </thead>\n  <tbody>\n    <tr>\n      <th>0</th>\n      <td>0.0</td>\n      <td>0.2744 0.3137 0.3215 0.2825 0.2274 0.2274 0.23...</td>\n    </tr>\n    <tr>\n      <th>1</th>\n      <td>0.0</td>\n      <td>0.5923 0.5884 0.5767 0.608 0.5806 0.5215 0.435...</td>\n    </tr>\n    <tr>\n      <th>2</th>\n      <td>2.0</td>\n      <td>0.0941 0.1255 0.1412 0.1177 0.1255 0.0902 0.07...</td>\n    </tr>\n    <tr>\n      <th>3</th>\n      <td>2.0</td>\n      <td>0.0784 0.06665 0.0745 0.08234 0.098 0.149 0.16...</td>\n    </tr>\n    <tr>\n      <th>4</th>\n      <td>3.0</td>\n      <td>0.302 0.306 0.3098 0.3098 0.306 0.2942 0.2354 ...</td>\n    </tr>\n    <tr>\n      <th>...</th>\n      <td>...</td>\n      <td>...</td>\n    </tr>\n    <tr>\n      <th>24563</th>\n      <td>3.0</td>\n      <td>0.0 0.153 0.3176 0.3137 0.408 0.3804 0.2 0.251...</td>\n    </tr>\n    <tr>\n      <th>24564</th>\n      <td>0.0</td>\n      <td>0.71 0.6943 0.6904 0.612 0.698 0.565 0.533 0.5...</td>\n    </tr>\n    <tr>\n      <th>24565</th>\n      <td>3.0</td>\n      <td>0.698 0.682 0.6743 0.678 0.71 0.7373 0.749 0.7...</td>\n    </tr>\n    <tr>\n      <th>24566</th>\n      <td>0.0</td>\n      <td>0.06665 0.06665 0.06274 0.0902 0.1098 0.0863 0...</td>\n    </tr>\n    <tr>\n      <th>24567</th>\n      <td>3.0</td>\n      <td>0.1177 0.1098 0.1098 0.1137 0.1216 0.1177 0.16...</td>\n    </tr>\n  </tbody>\n</table>\n<p>24568 rows × 2 columns</p>\n</div>"
     },
     "execution_count": 7,
     "metadata": {},
     "output_type": "execute_result"
    }
   ],
   "source": [
    "original_data = pd.read_csv('datasets/icml_face_data.csv')\n",
    "original_data"
   ],
   "metadata": {
    "collapsed": false
   }
  },
  {
   "cell_type": "code",
   "execution_count": 8,
   "outputs": [
    {
     "data": {
      "text/plain": "3.0    8989\n2.0    6077\n0.0    4953\n4.0    4002\n1.0     547\nName: emotion, dtype: int64"
     },
     "execution_count": 8,
     "metadata": {},
     "output_type": "execute_result"
    }
   ],
   "source": [
    "original_data['emotion'].value_counts()"
   ],
   "metadata": {
    "collapsed": false
   }
  },
  {
   "cell_type": "code",
   "execution_count": 9,
   "outputs": [
    {
     "data": {
      "text/plain": "3.0    8989\n0.0    8953\n2.0    8077\n4.0    8002\n1.0    7658\nName: emotion, dtype: int64"
     },
     "execution_count": 9,
     "metadata": {},
     "output_type": "execute_result"
    }
   ],
   "source": [
    "from scipy import ndimage\n",
    "\n",
    "# augmenting data to have balanced classes\n",
    "augmented_data = original_data.copy()\n",
    "\n",
    "for emotion in [0, 1, 2, 4]:\n",
    "    emotion_data = original_data[original_data['emotion'] == emotion].iloc[:2000]\n",
    "\n",
    "    while True:\n",
    "\n",
    "        def rotate_image(image):\n",
    "            image = np.array(image.split(' ')).reshape(48, 48).astype(np.float32)\n",
    "            image = ndimage.rotate(image, np.random.randint(-25, 25), reshape=False)\n",
    "            image = image.reshape(-1)\n",
    "\n",
    "            return ' '.join(map(str, image))\n",
    "\n",
    "        def set_image_brightness(image):\n",
    "            image = np.array(image.split(' ')).astype(np.float32)\n",
    "            image = np.array(image * np.random.randint(0, 2)).reshape(-1)\n",
    "\n",
    "            return ' '.join(map(str, image))\n",
    "\n",
    "        method_choices = [rotate_image, set_image_brightness]\n",
    "\n",
    "        def augment_images(image):\n",
    "            return np.random.choice(method_choices)(image)\n",
    "\n",
    "        augmented_data_by_emotion = emotion_data[' pixels'].apply(augment_images)\n",
    "        augmented_data_by_emotion = pd.DataFrame(augmented_data_by_emotion)\n",
    "        augmented_data_by_emotion['emotion'] = emotion\n",
    "\n",
    "        if augmented_data.loc[original_data['emotion'] == emotion].shape[0] > 7500:\n",
    "            break\n",
    "\n",
    "        augmented_data = pd.concat([augmented_data, augmented_data_by_emotion])\n",
    "\n",
    "augmented_data = augmented_data.sample(frac=1).reset_index(drop=True)\n",
    "augmented_data['emotion'].value_counts()"
   ],
   "metadata": {
    "collapsed": false
   }
  },
  {
   "cell_type": "code",
   "execution_count": 13,
   "outputs": [
    {
     "name": "stdout",
     "output_type": "stream",
     "text": [
      "(41679,)\n"
     ]
    }
   ],
   "source": [
    "from skimage.transform import resize\n",
    "from keras_preprocessing.image import ImageDataGenerator\n",
    "\n",
    "# augmented_data = original_data.copy()\n",
    "\n",
    "def preprocess_image(image):\n",
    "    image = np.array(image.split(' ')).reshape(48, 48).astype(np.float32)\n",
    "    image = resize(image, (shape[0], shape[1]), anti_aliasing=True)\n",
    "\n",
    "    return image\n",
    "\n",
    "images = augmented_data[' pixels'].apply(preprocess_image)\n",
    "print(images.shape)"
   ],
   "metadata": {
    "collapsed": false
   }
  },
  {
   "cell_type": "code",
   "execution_count": 14,
   "outputs": [
    {
     "data": {
      "text/plain": "(41679, 105, 105, 1)"
     },
     "execution_count": 14,
     "metadata": {},
     "output_type": "execute_result"
    }
   ],
   "source": [
    "images = list(map(lambda image: image.reshape(shape), images))\n",
    "images = np.array(images)\n",
    "images.shape"
   ],
   "metadata": {
    "collapsed": false
   }
  },
  {
   "cell_type": "code",
   "execution_count": 15,
   "outputs": [],
   "source": [
    "train_x, test_x, train_y, test_y = train_test_split(images, augmented_data['emotion'], test_size=0.2, random_state=42)\n",
    "\n",
    "checkpointer = ModelCheckpoint(filepath = f\"models/emotionPredictor_{NEURAL_NETWORK_TYPE}.h5\", verbose = 1, save_best_only = True)"
   ],
   "metadata": {
    "collapsed": false
   }
  },
  {
   "cell_type": "code",
   "execution_count": null,
   "outputs": [],
   "source": [
    "model.fit(train_x, train_y, epochs=300, validation_data=(test_x, test_y), callbacks=[checkpointer])"
   ],
   "metadata": {
    "collapsed": false
   }
  },
  {
   "cell_type": "code",
   "execution_count": 16,
   "outputs": [
    {
     "name": "stdout",
     "output_type": "stream",
     "text": [
      "261/261 [==============================] - 11s 34ms/step - loss: 0.4529 - accuracy: 0.8275\n",
      "[0.4528866708278656, 0.8274952173233032]\n",
      "261/261 [==============================] - 8s 31ms/step\n"
     ]
    },
    {
     "data": {
      "text/plain": "<Figure size 1000x1000 with 2 Axes>",
      "image/png": "[encoded data removed]"
     },
     "metadata": {},
     "output_type": "display_data"
    }
   ],
   "source": [
    "from matplotlib import pyplot as plt\n",
    "# dispersion matrix\n",
    "from sklearn.metrics import confusion_matrix\n",
    "import seaborn as sns\n",
    "from tensorflow.keras.models import load_model\n",
    "\n",
    "model = load_model(f'models/emotionPredictor_{NEURAL_NETWORK_TYPE}.h5')\n",
    "\n",
    "print(model.evaluate(test_x, test_y))\n",
    "\n",
    "y_pred = model.predict(test_x)\n",
    "y_pred = np.argmax(y_pred, axis=1)\n",
    "\n",
    "cm = confusion_matrix(test_y, y_pred)\n",
    "plt.figure(figsize=(10, 10))\n",
    "sns.heatmap(cm, annot=True, fmt='d')\n",
    "plt.title('Confusion matrix')\n",
    "plt.ylabel('Actual label')\n",
    "plt.xlabel('Predicted label')\n",
    "plt.show()\n"
   ],
   "metadata": {
    "collapsed": false
   }
  },
  {
   "cell_type": "code",
   "execution_count": null,
   "outputs": [],
   "source": [
    "import cv2\n",
    "from tensorflow.keras.models import load_model\n",
    "\n",
    "model = load_model('models/emotionPredictor.h5')\n",
    "shape = (105, 105, 1)\n",
    "emotion_dict =  {0:'Ira', 1:'Asco', 2:'Tristeza', 3:'Felicidad', 4: 'Sorpresa'}\n",
    "\n",
    "cap = cv2.VideoCapture(0)\n",
    "faceCascade = cv2.CascadeClassifier(cv2.data.haarcascades + 'haarcascade_frontalface_default.xml')\n",
    "glassesCascade = cv2.CascadeClassifier(cv2.data.haarcascades + 'haarcascade_lowerbody.xml')\n",
    "\n",
    "if not cap.isOpened():\n",
    "    print(\"Cannot open camera\")\n",
    "    exit()\n",
    "\n",
    "cont = 0\n",
    "while True:\n",
    "    # Capture frame-by-frame\n",
    "    ret, frame = cap.read()\n",
    "\n",
    "    # if frame is read correctly ret is True\n",
    "    if not ret:\n",
    "        print(\"Can't receive frame (stream end?). Exiting ...\")\n",
    "        break\n",
    "    # Our operations on the frame come here\n",
    "\n",
    "    frame = cv2.flip(frame, 90)\n",
    "    frame = cv2.cvtColor(frame, cv2.COLOR_BGR2GRAY)\n",
    "\n",
    "    faces = faceCascade.detectMultiScale(frame, scaleFactor=1.3, minNeighbors=5, minSize=(30, 30))\n",
    "\n",
    "    for (x, y, w, h) in faces:\n",
    "        frame_cara = cv2.resize(frame[y:y+h, x:x+w], shape[:2])/255\n",
    "\n",
    "        # set rectangle\n",
    "        cv2.rectangle(frame, (x, y), (x+w, y+h), (0, 255, 0), 2)\n",
    "\n",
    "        prediction = model.predict(frame_cara.reshape(1, shape[0], shape[1], 1)).astype(np.float32)\n",
    "        print(prediction)\n",
    "        emotion_index = np.argmax(prediction)\n",
    "\n",
    "        print(model.predict(frame_cara.reshape(1, shape[0], shape[1], 1)).astype(np.float32))\n",
    "\n",
    "        font = cv2.FONT_HERSHEY_SIMPLEX\n",
    "        fontScale = 1\n",
    "        color = (0, 0, 0)\n",
    "        thickness = 2\n",
    "\n",
    "        cv2.putText(frame, 'Emotion: ' + emotion_dict[emotion_index], (x, y), font,\n",
    "                            fontScale, color, thickness, cv2.LINE_AA)\n",
    "\n",
    "    # Display the resulting frame\n",
    "    cv2.imshow('frame', frame)\n",
    "    if cv2.waitKey(1) == ord('q'):\n",
    "        break\n",
    "\n",
    "    cont += 1\n",
    "# When everything done, release the capture\n",
    "cap.release()\n",
    "cv2.destroyAllWindows()"
   ],
   "metadata": {
    "collapsed": false
   }
  },
  {
   "cell_type": "code",
   "execution_count": null,
   "outputs": [],
   "source": [],
   "metadata": {
    "collapsed": false
   }
  }
 ],
 "metadata": {
  "kernelspec": {
   "display_name": "Python 3",
   "language": "python",
   "name": "python3"
  },
  "language_info": {
   "codemirror_mode": {
    "name": "ipython",
    "version": 2
   },
   "file_extension": ".py",
   "mimetype": "text/x-python",
   "name": "python",
   "nbconvert_exporter": "python",
   "pygments_lexer": "ipython2",
   "version": "2.7.6"
  }
 },
 "nbformat": 4,
 "nbformat_minor": 0
}
