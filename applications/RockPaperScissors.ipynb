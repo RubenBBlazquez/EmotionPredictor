{
 "cells": [
  {
   "cell_type": "markdown",
   "source": [
    "#### Data Generation with your own reactions, modify\n",
    "#### dataframe.to_csv('datasets/{rock/paper/scissor}.csv', header=True, index=None)\n",
    "#### to save the properly reactions in the folders to train the model afterward\n",
    "#### also modify \"new_dataframe['target'] = 2\" por 0=rock, 1=paper, 2=scissor, \n",
    "#### to define the dependent variable that the model must predict "
   ],
   "metadata": {
    "collapsed": false
   }
  },
  {
   "cell_type": "code",
   "execution_count": 9,
   "outputs": [],
   "source": [
    "import cv2\n",
    "import mediapipe as mp\n",
    "import csv\n",
    "\n",
    "import numpy as np\n",
    "import pandas as pd\n",
    "\n",
    "mp_drawing = mp.solutions.drawing_utils\n",
    "mp_drawing_styles = mp.solutions.drawing_styles\n",
    "mp_hands = mp.solutions.hands\n",
    "\n",
    "dataframe = None\n",
    "\n",
    "cap = cv2.VideoCapture(0)\n",
    "with mp_hands.Hands(\n",
    "        model_complexity=0,\n",
    "        min_detection_confidence=0.5,\n",
    "        min_tracking_confidence=0.5) as hands:\n",
    "    while cap.isOpened():\n",
    "        success, image = cap.read()\n",
    "        if not success:\n",
    "            print(\"Ignoring empty camera frame.\")\n",
    "            # If loading a video, use 'break' instead of 'continue'.\n",
    "            continue\n",
    "\n",
    "        # To improve performance, optionally mark the image as not writeable to\n",
    "        # pass by reference.\n",
    "        image.flags.writeable = False\n",
    "        image = cv2.cvtColor(image, cv2.COLOR_BGR2RGB)\n",
    "        results = hands.process(image)\n",
    "\n",
    "        # Draw the hand annotations on the image.\n",
    "        image.flags.writeable = True\n",
    "        image = cv2.cvtColor(image, cv2.COLOR_RGB2BGR)\n",
    "\n",
    "        landmarks_hand = {}\n",
    "\n",
    "        if results.multi_hand_landmarks:\n",
    "\n",
    "            for index, landmark in enumerate(results.multi_hand_landmarks[0].landmark):\n",
    "                x = landmark.x\n",
    "                y = landmark.y\n",
    "                z = landmark.z\n",
    "\n",
    "                landmarks_hand[f'landmark_{index}_x'] = x\n",
    "                landmarks_hand[f'landmark_{index}_y'] = y\n",
    "                landmarks_hand[f'landmark_{index}_z'] = z\n",
    "\n",
    "            new_dataframe = pd.DataFrame(landmarks_hand, index=range(len(landmarks_hand.values())))\n",
    "            new_dataframe['target'] = 2\n",
    "\n",
    "            if dataframe is not None:\n",
    "                dataframe = pd.concat((dataframe, new_dataframe))\n",
    "            else:\n",
    "                dataframe = new_dataframe.copy()\n",
    "\n",
    "            dataframe.to_csv('datasets/scissor.csv', header=True, index=None)\n",
    "\n",
    "        # Flip the image horizontally for a selfie-view display.\n",
    "        cv2.imshow('MediaPipe Hands', cv2.flip(image, 1))\n",
    "\n",
    "        if cv2.waitKey(5) & 0xFF == 27:\n",
    "            break\n",
    "\n",
    "cap.release()\n",
    "cv2.destroyAllWindows()"
   ],
   "metadata": {
    "collapsed": false
   }
  },
  {
   "cell_type": "code",
   "execution_count": 10,
   "outputs": [
    {
     "name": "stdout",
     "output_type": "stream",
     "text": [
      "[[1. 0. 0.]\n",
      " [0. 0. 1.]\n",
      " [1. 0. 0.]\n",
      " ...\n",
      " [0. 0. 1.]\n",
      " [1. 0. 0.]\n",
      " [1. 0. 0.]]\n"
     ]
    },
    {
     "data": {
      "text/plain": "      landmark_0_x  landmark_0_y  landmark_0_z  landmark_1_x  landmark_1_y  \\\n1046      0.174002      0.885061  3.623993e-10      0.252236      0.882192   \n3418      0.273122      0.822304  5.934432e-09      0.368654      0.785282   \n2149      0.231080      0.825721 -6.797549e-09      0.301042      0.739255   \n4829      0.349277      0.737306  5.077187e-09      0.434033      0.749160   \n4255      0.314325      0.833562  5.931614e-09      0.404099      0.823439   \n...            ...           ...           ...           ...           ...   \n156       0.290832      0.765791  3.530613e-09      0.250158      0.667337   \n3779      0.258841      0.764729  1.807532e-08      0.345623      0.831599   \n3758      0.205777      0.909890  1.320551e-08      0.185068      0.745463   \n4106      0.142824      0.753697  9.875314e-09      0.119730      0.604410   \n3886      0.283713      0.775829  6.600751e-09      0.380194      0.766777   \n\n      landmark_1_z  landmark_2_x  landmark_2_y  landmark_2_z  landmark_3_x  \\\n1046     -0.033130      0.324448      0.811234     -0.062639      0.335721   \n3418     -0.020860      0.460080      0.673556     -0.038508      0.485609   \n2149     -0.027353      0.325068      0.606284     -0.064363      0.299450   \n4829     -0.005394      0.528513      0.700791     -0.014675      0.576771   \n4255     -0.010623      0.501720      0.739797     -0.025153      0.543890   \n...            ...           ...           ...           ...           ...   \n156       0.050529      0.258757      0.588537      0.061056      0.297775   \n3779     -0.075467      0.443984      0.850205     -0.145312      0.524127   \n3758      0.097039      0.218611      0.653786      0.116275      0.270374   \n4106      0.087031      0.144797      0.525730      0.105428      0.186695   \n3886     -0.005756      0.470272      0.683680     -0.007204      0.502580   \n\n      ...  landmark_17_z  landmark_18_x  landmark_18_y  landmark_18_z  \\\n1046  ...      -0.095119       0.238400       0.642186      -0.128928   \n3418  ...      -0.080261       0.281512       0.530850      -0.092801   \n2149  ...      -0.142895       0.204141       0.610256      -0.171498   \n4829  ...      -0.055014       0.427535       0.500535      -0.067418   \n4255  ...      -0.077350       0.366390       0.567770      -0.090544   \n...   ...            ...            ...            ...            ...   \n156   ...      -0.050055       0.406976       0.593049      -0.013238   \n3779  ...      -0.184410       0.190018       0.494877      -0.231278   \n3758  ...      -0.059918       0.361978       0.682947       0.011659   \n4106  ...      -0.057377       0.291948       0.543388      -0.000571   \n3886  ...      -0.030143       0.334093       0.496245      -0.043591   \n\n      landmark_19_x  landmark_19_y  landmark_19_z  landmark_20_x  \\\n1046       0.236347       0.716632      -0.130315       0.228465   \n3418       0.285839       0.625360      -0.079802       0.264445   \n2149       0.260334       0.651911      -0.171210       0.288194   \n4829       0.408746       0.574316      -0.058929       0.384806   \n4255       0.353362       0.659235      -0.076661       0.328061   \n...             ...            ...            ...            ...   \n156        0.402408       0.619843       0.008416       0.392993   \n3779       0.162840       0.420587      -0.254400       0.147519   \n3758       0.338039       0.713788       0.067388       0.324346   \n4106       0.272894       0.574556       0.042138       0.255652   \n3886       0.323886       0.584845      -0.036601       0.300980   \n\n      landmark_20_y  landmark_20_z  \n1046       0.772228      -0.124228  \n3418       0.640064      -0.063597  \n2149       0.684098      -0.167162  \n4829       0.597873      -0.047639  \n4255       0.670652      -0.060323  \n...             ...            ...  \n156        0.639904       0.016299  \n3779       0.349513      -0.276611  \n3758       0.746433       0.100854  \n4106       0.600944       0.067627  \n3886       0.624776      -0.024467  \n\n[12833 rows x 63 columns]",
      "text/html": "<div>\n<style scoped>\n    .dataframe tbody tr th:only-of-type {\n        vertical-align: middle;\n    }\n\n    .dataframe tbody tr th {\n        vertical-align: top;\n    }\n\n    .dataframe thead th {\n        text-align: right;\n    }\n</style>\n<table border=\"1\" class=\"dataframe\">\n  <thead>\n    <tr style=\"text-align: right;\">\n      <th></th>\n      <th>landmark_0_x</th>\n      <th>landmark_0_y</th>\n      <th>landmark_0_z</th>\n      <th>landmark_1_x</th>\n      <th>landmark_1_y</th>\n      <th>landmark_1_z</th>\n      <th>landmark_2_x</th>\n      <th>landmark_2_y</th>\n      <th>landmark_2_z</th>\n      <th>landmark_3_x</th>\n      <th>...</th>\n      <th>landmark_17_z</th>\n      <th>landmark_18_x</th>\n      <th>landmark_18_y</th>\n      <th>landmark_18_z</th>\n      <th>landmark_19_x</th>\n      <th>landmark_19_y</th>\n      <th>landmark_19_z</th>\n      <th>landmark_20_x</th>\n      <th>landmark_20_y</th>\n      <th>landmark_20_z</th>\n    </tr>\n  </thead>\n  <tbody>\n    <tr>\n      <th>1046</th>\n      <td>0.174002</td>\n      <td>0.885061</td>\n      <td>3.623993e-10</td>\n      <td>0.252236</td>\n      <td>0.882192</td>\n      <td>-0.033130</td>\n      <td>0.324448</td>\n      <td>0.811234</td>\n      <td>-0.062639</td>\n      <td>0.335721</td>\n      <td>...</td>\n      <td>-0.095119</td>\n      <td>0.238400</td>\n      <td>0.642186</td>\n      <td>-0.128928</td>\n      <td>0.236347</td>\n      <td>0.716632</td>\n      <td>-0.130315</td>\n      <td>0.228465</td>\n      <td>0.772228</td>\n      <td>-0.124228</td>\n    </tr>\n    <tr>\n      <th>3418</th>\n      <td>0.273122</td>\n      <td>0.822304</td>\n      <td>5.934432e-09</td>\n      <td>0.368654</td>\n      <td>0.785282</td>\n      <td>-0.020860</td>\n      <td>0.460080</td>\n      <td>0.673556</td>\n      <td>-0.038508</td>\n      <td>0.485609</td>\n      <td>...</td>\n      <td>-0.080261</td>\n      <td>0.281512</td>\n      <td>0.530850</td>\n      <td>-0.092801</td>\n      <td>0.285839</td>\n      <td>0.625360</td>\n      <td>-0.079802</td>\n      <td>0.264445</td>\n      <td>0.640064</td>\n      <td>-0.063597</td>\n    </tr>\n    <tr>\n      <th>2149</th>\n      <td>0.231080</td>\n      <td>0.825721</td>\n      <td>-6.797549e-09</td>\n      <td>0.301042</td>\n      <td>0.739255</td>\n      <td>-0.027353</td>\n      <td>0.325068</td>\n      <td>0.606284</td>\n      <td>-0.064363</td>\n      <td>0.299450</td>\n      <td>...</td>\n      <td>-0.142895</td>\n      <td>0.204141</td>\n      <td>0.610256</td>\n      <td>-0.171498</td>\n      <td>0.260334</td>\n      <td>0.651911</td>\n      <td>-0.171210</td>\n      <td>0.288194</td>\n      <td>0.684098</td>\n      <td>-0.167162</td>\n    </tr>\n    <tr>\n      <th>4829</th>\n      <td>0.349277</td>\n      <td>0.737306</td>\n      <td>5.077187e-09</td>\n      <td>0.434033</td>\n      <td>0.749160</td>\n      <td>-0.005394</td>\n      <td>0.528513</td>\n      <td>0.700791</td>\n      <td>-0.014675</td>\n      <td>0.576771</td>\n      <td>...</td>\n      <td>-0.055014</td>\n      <td>0.427535</td>\n      <td>0.500535</td>\n      <td>-0.067418</td>\n      <td>0.408746</td>\n      <td>0.574316</td>\n      <td>-0.058929</td>\n      <td>0.384806</td>\n      <td>0.597873</td>\n      <td>-0.047639</td>\n    </tr>\n    <tr>\n      <th>4255</th>\n      <td>0.314325</td>\n      <td>0.833562</td>\n      <td>5.931614e-09</td>\n      <td>0.404099</td>\n      <td>0.823439</td>\n      <td>-0.010623</td>\n      <td>0.501720</td>\n      <td>0.739797</td>\n      <td>-0.025153</td>\n      <td>0.543890</td>\n      <td>...</td>\n      <td>-0.077350</td>\n      <td>0.366390</td>\n      <td>0.567770</td>\n      <td>-0.090544</td>\n      <td>0.353362</td>\n      <td>0.659235</td>\n      <td>-0.076661</td>\n      <td>0.328061</td>\n      <td>0.670652</td>\n      <td>-0.060323</td>\n    </tr>\n    <tr>\n      <th>...</th>\n      <td>...</td>\n      <td>...</td>\n      <td>...</td>\n      <td>...</td>\n      <td>...</td>\n      <td>...</td>\n      <td>...</td>\n      <td>...</td>\n      <td>...</td>\n      <td>...</td>\n      <td>...</td>\n      <td>...</td>\n      <td>...</td>\n      <td>...</td>\n      <td>...</td>\n      <td>...</td>\n      <td>...</td>\n      <td>...</td>\n      <td>...</td>\n      <td>...</td>\n      <td>...</td>\n    </tr>\n    <tr>\n      <th>156</th>\n      <td>0.290832</td>\n      <td>0.765791</td>\n      <td>3.530613e-09</td>\n      <td>0.250158</td>\n      <td>0.667337</td>\n      <td>0.050529</td>\n      <td>0.258757</td>\n      <td>0.588537</td>\n      <td>0.061056</td>\n      <td>0.297775</td>\n      <td>...</td>\n      <td>-0.050055</td>\n      <td>0.406976</td>\n      <td>0.593049</td>\n      <td>-0.013238</td>\n      <td>0.402408</td>\n      <td>0.619843</td>\n      <td>0.008416</td>\n      <td>0.392993</td>\n      <td>0.639904</td>\n      <td>0.016299</td>\n    </tr>\n    <tr>\n      <th>3779</th>\n      <td>0.258841</td>\n      <td>0.764729</td>\n      <td>1.807532e-08</td>\n      <td>0.345623</td>\n      <td>0.831599</td>\n      <td>-0.075467</td>\n      <td>0.443984</td>\n      <td>0.850205</td>\n      <td>-0.145312</td>\n      <td>0.524127</td>\n      <td>...</td>\n      <td>-0.184410</td>\n      <td>0.190018</td>\n      <td>0.494877</td>\n      <td>-0.231278</td>\n      <td>0.162840</td>\n      <td>0.420587</td>\n      <td>-0.254400</td>\n      <td>0.147519</td>\n      <td>0.349513</td>\n      <td>-0.276611</td>\n    </tr>\n    <tr>\n      <th>3758</th>\n      <td>0.205777</td>\n      <td>0.909890</td>\n      <td>1.320551e-08</td>\n      <td>0.185068</td>\n      <td>0.745463</td>\n      <td>0.097039</td>\n      <td>0.218611</td>\n      <td>0.653786</td>\n      <td>0.116275</td>\n      <td>0.270374</td>\n      <td>...</td>\n      <td>-0.059918</td>\n      <td>0.361978</td>\n      <td>0.682947</td>\n      <td>0.011659</td>\n      <td>0.338039</td>\n      <td>0.713788</td>\n      <td>0.067388</td>\n      <td>0.324346</td>\n      <td>0.746433</td>\n      <td>0.100854</td>\n    </tr>\n    <tr>\n      <th>4106</th>\n      <td>0.142824</td>\n      <td>0.753697</td>\n      <td>9.875314e-09</td>\n      <td>0.119730</td>\n      <td>0.604410</td>\n      <td>0.087031</td>\n      <td>0.144797</td>\n      <td>0.525730</td>\n      <td>0.105428</td>\n      <td>0.186695</td>\n      <td>...</td>\n      <td>-0.057377</td>\n      <td>0.291948</td>\n      <td>0.543388</td>\n      <td>-0.000571</td>\n      <td>0.272894</td>\n      <td>0.574556</td>\n      <td>0.042138</td>\n      <td>0.255652</td>\n      <td>0.600944</td>\n      <td>0.067627</td>\n    </tr>\n    <tr>\n      <th>3886</th>\n      <td>0.283713</td>\n      <td>0.775829</td>\n      <td>6.600751e-09</td>\n      <td>0.380194</td>\n      <td>0.766777</td>\n      <td>-0.005756</td>\n      <td>0.470272</td>\n      <td>0.683680</td>\n      <td>-0.007204</td>\n      <td>0.502580</td>\n      <td>...</td>\n      <td>-0.030143</td>\n      <td>0.334093</td>\n      <td>0.496245</td>\n      <td>-0.043591</td>\n      <td>0.323886</td>\n      <td>0.584845</td>\n      <td>-0.036601</td>\n      <td>0.300980</td>\n      <td>0.624776</td>\n      <td>-0.024467</td>\n    </tr>\n  </tbody>\n</table>\n<p>12833 rows × 63 columns</p>\n</div>"
     },
     "execution_count": 10,
     "metadata": {},
     "output_type": "execute_result"
    }
   ],
   "source": [
    "from sklearn.preprocessing import OneHotEncoder\n",
    "from sklearn.model_selection import train_test_split\n",
    "\n",
    "rock = pd.read_csv('datasets/rock.csv')\n",
    "scissor = pd.read_csv('datasets/scissor.csv')\n",
    "paper = pd.read_csv('datasets/paper.csv')\n",
    "\n",
    "original_dataframe = pd.concat((rock, paper, scissor))\n",
    "original_dataframe = original_dataframe.sample(frac=1)\n",
    "\n",
    "x = original_dataframe.drop('target', axis=1)\n",
    "y = original_dataframe['target']\n",
    "\n",
    "one_hot = OneHotEncoder(sparse_output=False)\n",
    "y = one_hot.fit_transform(y.to_numpy().reshape(-1, 1))\n",
    "\n",
    "print(y)\n",
    "train_x, test_x, train_y, test_y = train_test_split(x, y, train_size=0.7)\n",
    "\n",
    "test_x, ev_x, test_y, ev_y = train_test_split(x, y, train_size=0.7)\n",
    "\n",
    "train_x"
   ],
   "metadata": {
    "collapsed": false
   }
  },
  {
   "cell_type": "code",
   "execution_count": 11,
   "outputs": [],
   "source": [
    "from keras.layers import MaxPooling2D, Flatten, Dense, Dropout, Convolution2D\n",
    "from keras import Sequential\n",
    "import tensorflow as tf\n",
    "\n",
    "model = Sequential()\n",
    "model.add(Dense(63, activation='relu'))\n",
    "model.add(Dense(10, activation='relu'))\n",
    "model.add(Dense(3, activation='softmax'))\n"
   ],
   "metadata": {
    "collapsed": false
   }
  },
  {
   "cell_type": "code",
   "execution_count": 12,
   "outputs": [
    {
     "name": "stdout",
     "output_type": "stream",
     "text": [
      "(18333, 63)\n"
     ]
    }
   ],
   "source": [
    "print(x.shape)"
   ],
   "metadata": {
    "collapsed": false
   }
  },
  {
   "cell_type": "code",
   "execution_count": 13,
   "outputs": [],
   "source": [
    "model.compile(optimizer='Adam', loss='categorical_crossentropy', metrics=['Accuracy'])"
   ],
   "metadata": {
    "collapsed": false
   }
  },
  {
   "cell_type": "code",
   "execution_count": null,
   "outputs": [],
   "source": [
    "model.fit(train_x, train_y, validation_data=(test_x, test_y), epochs=10)"
   ],
   "metadata": {
    "collapsed": false
   }
  },
  {
   "cell_type": "code",
   "execution_count": 15,
   "outputs": [
    {
     "name": "stdout",
     "output_type": "stream",
     "text": [
      "1/1 [==============================] - 0s 35ms/step\n",
      "[[9.9983048e-01 1.6702335e-04 2.5497400e-06]]\n",
      "[1. 0. 0.]\n",
      "1/1 [==============================] - 0s 15ms/step\n",
      "[[5.6292080e-05 9.3001645e-06 9.9993443e-01]]\n",
      "[0. 0. 1.]\n",
      "1/1 [==============================] - 0s 13ms/step\n",
      "[[9.9997795e-01 1.0967216e-05 1.1121751e-05]]\n",
      "[1. 0. 0.]\n"
     ]
    }
   ],
   "source": [
    "predict = ev_x.iloc[0].to_numpy().reshape(1, -1)\n",
    "print(model.predict(predict))\n",
    "print(ev_y[0])\n",
    "\n",
    "predict = ev_x.iloc[10].to_numpy().reshape(1, -1)\n",
    "print(model.predict(predict))\n",
    "print(ev_y[10])\n",
    "\n",
    "predict = ev_x.iloc[13].to_numpy().reshape(1, -1)\n",
    "print(model.predict(predict))\n",
    "print(ev_y[13])"
   ],
   "metadata": {
    "collapsed": false
   }
  },
  {
   "cell_type": "code",
   "execution_count": null,
   "outputs": [],
   "source": [
    "import numpy as np\n",
    "\n",
    "def get_machine_move():\n",
    "    return np.random.choice([0,1,2])\n",
    "\n",
    "def check_move(imagen, machine_move, prediction):\n",
    "    if machine_move == 0:\n",
    "        if prediction == 0:\n",
    "            text = 'hemos empatado yo he sacado' + type_predict[machine_move]\n",
    "\n",
    "            cv2.putText(imagen, text, (0, 100), font,\n",
    "                            fontScale, color, thickness, cv2.LINE_AA)\n",
    "\n",
    "            return text\n",
    "\n",
    "        elif prediction == 1:\n",
    "            text = 'has ganado yo he sacado ' + type_predict[machine_move]\n",
    "\n",
    "            cv2.putText(image, text, (0, 100), font,\n",
    "                            fontScale, color, thickness, cv2.LINE_AA)\n",
    "\n",
    "            return text\n",
    "\n",
    "        else:\n",
    "            text = 'has perdido yo he sacado ' + type_predict[machine_move]\n",
    "\n",
    "            cv2.putText(image, text, (0, 100), font,\n",
    "                            fontScale, color, thickness, cv2.LINE_AA)\n",
    "            return text\n",
    "\n",
    "    elif machine_move == 1:\n",
    "        if prediction == 0:\n",
    "            text = 'has perdido yo he sacado ' + type_predict[machine_move]\n",
    "\n",
    "            cv2.putText(image, text, (0, 100), font,\n",
    "                            fontScale, color, thickness, cv2.LINE_AA)\n",
    "\n",
    "            return text\n",
    "\n",
    "        elif prediction == 1:\n",
    "            text = 'hemos empatado yo he sacado' + type_predict[machine_move]\n",
    "\n",
    "            cv2.putText(image, text, (0, 100), font,\n",
    "                            fontScale, color, thickness, cv2.LINE_AA)\n",
    "\n",
    "            return text\n",
    "        else:\n",
    "            text = 'has ganado yo he sacado' + type_predict[machine_move]\n",
    "\n",
    "            cv2.putText(image, text, (0, 100), font,\n",
    "                            fontScale, color, thickness, cv2.LINE_AA)\n",
    "            return text\n",
    "\n",
    "    else:\n",
    "        if prediction == 0:\n",
    "            text = 'has ganado yo he sacado' + type_predict[machine_move]\n",
    "\n",
    "            cv2.putText(image, text, (0, 100), font,\n",
    "                            fontScale, color, thickness, cv2.LINE_AA)\n",
    "            return text\n",
    "\n",
    "        elif prediction == 1:\n",
    "            text = 'has perdido yo he sacado' + type_predict[machine_move]\n",
    "\n",
    "            cv2.putText(image, text, (0, 100), font,\n",
    "                            fontScale, color, thickness, cv2.LINE_AA)\n",
    "            return text\n",
    "        else:\n",
    "            text = 'hemos empatado yo he sacado' + type_predict[machine_move]\n",
    "\n",
    "            cv2.putText(image, text, (0, 100), font,\n",
    "                            fontScale, color, thickness, cv2.LINE_AA)\n",
    "\n",
    "            return text\n",
    "\n",
    "\n",
    "mp_drawing = mp.solutions.drawing_utils\n",
    "mp_drawing_styles = mp.solutions.drawing_styles\n",
    "mp_hands = mp.solutions.hands\n",
    "type_predict = {0: 'rock', 1:'paper', 2:'scissors'}\n",
    "image_predict = {0: cv2.imread(\"filtros/piedra.jpg\"), 1:cv2.imread(\"filtros/paper.jpg\"), 2:cv2.imread(\"filtros/tijeras.jpg\")}\n",
    "font = cv2.FONT_HERSHEY_SIMPLEX\n",
    "fontScale = 1\n",
    "color = (0, 0, 0)\n",
    "thickness = 1\n",
    "wait = False\n",
    "dataframe = None\n",
    "count = 0\n",
    "cap = cv2.VideoCapture(0)\n",
    "timer = 3\n",
    "wait_5_seconds = False\n",
    "win_text = ''\n",
    "win_image = np.array([])\n",
    "\n",
    "with mp_hands.Hands(\n",
    "        model_complexity=0,\n",
    "        min_detection_confidence=0.5,\n",
    "        min_tracking_confidence=0.5) as hands:\n",
    "\n",
    "    while cap.isOpened():\n",
    "        count += 1\n",
    "        success, image = cap.read()\n",
    "\n",
    "        image = cv2.flip(image, 1)\n",
    "        image = cv2.cvtColor(image, cv2.COLOR_BGR2RGB)\n",
    "        cv2.putText(image, str(timer), (int(image.shape[1]/2), int(image.shape[0]/2)), font, fontScale, color, thickness, cv2.LINE_AA)\n",
    "\n",
    "        if wait_5_seconds and count < 200:\n",
    "            cv2.putText(image, win_text, (0, 100), font,\n",
    "                            fontScale, color, thickness, cv2.LINE_AA)\n",
    "\n",
    "        elif count >= 200 and wait_5_seconds:\n",
    "            wait_5_seconds = False\n",
    "            count = 0\n",
    "            timer = 3\n",
    "            win_text = ''\n",
    "            win_image = np.array([])\n",
    "\n",
    "        if count >= 30 and timer > 0:\n",
    "            timer-=1\n",
    "            count = 0\n",
    "\n",
    "        if timer == 0 and not wait_5_seconds:\n",
    "            results = hands.process(image)\n",
    "\n",
    "            landmarks_hand = {}\n",
    "\n",
    "            if results.multi_hand_landmarks:\n",
    "\n",
    "                for index, landmark in enumerate(results.multi_hand_landmarks[0].landmark):\n",
    "                    x = landmark.x\n",
    "                    y = landmark.y\n",
    "                    z = landmark.z\n",
    "\n",
    "                    landmarks_hand[f'landmark_{index}_x'] = x\n",
    "                    landmarks_hand[f'landmark_{index}_y'] = y\n",
    "                    landmarks_hand[f'landmark_{index}_z'] = z\n",
    "\n",
    "                machine_move = get_machine_move()\n",
    "\n",
    "                predict = np.array(list(landmarks_hand.values())).reshape(1, -1)\n",
    "                predict = np.argmax(model.predict(predict))\n",
    "                print(predict)\n",
    "                win_text = check_move(image, machine_move, predict)\n",
    "\n",
    "                win_image = image_predict[machine_move]\n",
    "                win_image = cv2.resize(win_image, (200, 200))\n",
    "                cv2.imshow('Machine', win_image)\n",
    "\n",
    "                count = 0\n",
    "                wait_5_seconds = True\n",
    "\n",
    "        cv2.imshow('MediaPipe Hands', image)\n",
    "        if cv2.waitKey(5) & 0xFF == 27:\n",
    "            break\n",
    "\n",
    "cap.release()\n",
    "cv2.destroyAllWindows()"
   ],
   "metadata": {
    "collapsed": false
   }
  },
  {
   "cell_type": "code",
   "execution_count": 16,
   "outputs": [],
   "source": [],
   "metadata": {
    "collapsed": false
   }
  }
 ],
 "metadata": {
  "kernelspec": {
   "display_name": "Python 3",
   "language": "python",
   "name": "python3"
  },
  "language_info": {
   "codemirror_mode": {
    "name": "ipython",
    "version": 2
   },
   "file_extension": ".py",
   "mimetype": "text/x-python",
   "name": "python",
   "nbconvert_exporter": "python",
   "pygments_lexer": "ipython2",
   "version": "2.7.6"
  }
 },
 "nbformat": 4,
 "nbformat_minor": 0
}
