{
 "cells": [
  {
   "cell_type": "code",
   "execution_count": 2,
   "outputs": [],
   "source": [
    "import numpy as np\n",
    "import pandas as pd\n",
    "import tensorflow as tf\n",
    "from tensorflow.keras.models import load_model\n",
    "import cv2"
   ],
   "metadata": {
    "collapsed": false
   }
  },
  {
   "cell_type": "code",
   "execution_count": 3,
   "outputs": [],
   "source": [
    "model = load_model('models/facialPointsPredictor.h5')\n",
    "\n",
    "def get_points(image):\n",
    "    image = tf.reshape(image, (96, 96, 1))\n",
    "    points = model.predict(np.array([image]))[0]\n",
    "\n",
    "    points2 = []\n",
    "    for i, co in enumerate(points[0::2]):\n",
    "        points2.append((co, points[1::2][i]))\n",
    "\n",
    "    ancho_gafas= int((points2[7][0]-points2[9][0]))\n",
    "    alto_gafas = int((points2[10][1]-points2[8][1]))\n",
    "\n",
    "    print(ancho_gafas, alto_gafas)\n",
    "\n",
    "    return points[0::2], points[1::2]"
   ],
   "metadata": {
    "collapsed": false
   }
  },
  {
   "cell_type": "code",
   "execution_count": 6,
   "outputs": [
    {
     "name": "stdout",
     "output_type": "stream",
     "text": [
      "1/1 [==============================] - 0s 27ms/step\n",
      "-42 25\n",
      "-42 25\n",
      "1/1 [==============================] - 0s 22ms/step\n",
      "-62 28\n",
      "-62 28\n",
      "1/1 [==============================] - 0s 22ms/step\n",
      "-64 29\n",
      "-64 29\n",
      "1/1 [==============================] - 0s 22ms/step\n",
      "-61 28\n",
      "-61 28\n",
      "1/1 [==============================] - 0s 22ms/step\n",
      "-61 23\n",
      "-61 23\n",
      "1/1 [==============================] - 0s 22ms/step\n",
      "-9 25\n",
      "-9 25\n",
      "1/1 [==============================] - 0s 23ms/step\n",
      "-53 24\n",
      "-53 24\n",
      "1/1 [==============================] - 0s 23ms/step\n",
      "-57 22\n",
      "-57 22\n",
      "1/1 [==============================] - 0s 21ms/step\n",
      "-57 23\n",
      "-57 23\n",
      "1/1 [==============================] - 0s 22ms/step\n",
      "-55 23\n",
      "-55 23\n",
      "1/1 [==============================] - 0s 22ms/step\n",
      "-61 23\n",
      "-61 23\n",
      "1/1 [==============================] - 0s 23ms/step\n",
      "3 25\n",
      "3 25\n"
     ]
    },
    {
     "ename": "IndexError",
     "evalue": "too many indices for array: array is 2-dimensional, but 3 were indexed",
     "output_type": "error",
     "traceback": [
      "\u001B[1;31m---------------------------------------------------------------------------\u001B[0m",
      "\u001B[1;31mIndexError\u001B[0m                                Traceback (most recent call last)",
      "Cell \u001B[1;32mIn[6], line 44\u001B[0m\n\u001B[0;32m     41\u001B[0m     gafas_resized \u001B[38;5;241m=\u001B[39m cv2\u001B[38;5;241m.\u001B[39mresize(gafas, (ancho_gafas, alto_gafas), interpolation \u001B[38;5;241m=\u001B[39m cv2\u001B[38;5;241m.\u001B[39mINTER_CUBIC)\n\u001B[0;32m     43\u001B[0m     region_no_transparente \u001B[38;5;241m=\u001B[39m gafas_resized[:,:,:\u001B[38;5;241m3\u001B[39m] \u001B[38;5;241m!=\u001B[39m \u001B[38;5;241m0\u001B[39m\n\u001B[1;32m---> 44\u001B[0m     \u001B[43mframe_cara\u001B[49m\u001B[43m[\u001B[49m\u001B[38;5;28;43mint\u001B[39;49m\u001B[43m(\u001B[49m\u001B[43mpoints\u001B[49m\u001B[43m[\u001B[49m\u001B[38;5;241;43m9\u001B[39;49m\u001B[43m]\u001B[49m\u001B[43m[\u001B[49m\u001B[38;5;241;43m1\u001B[39;49m\u001B[43m]\u001B[49m\u001B[43m)\u001B[49m\u001B[43m:\u001B[49m\u001B[38;5;28;43mint\u001B[39;49m\u001B[43m(\u001B[49m\u001B[43mpoints\u001B[49m\u001B[43m[\u001B[49m\u001B[38;5;241;43m9\u001B[39;49m\u001B[43m]\u001B[49m\u001B[43m[\u001B[49m\u001B[38;5;241;43m1\u001B[39;49m\u001B[43m]\u001B[49m\u001B[43m)\u001B[49m\u001B[38;5;241;43m+\u001B[39;49m\u001B[43malto_gafas\u001B[49m\u001B[43m,\u001B[49m\n\u001B[0;32m     45\u001B[0m \u001B[43m    \u001B[49m\u001B[38;5;28;43mint\u001B[39;49m\u001B[43m(\u001B[49m\u001B[43mpoints\u001B[49m\u001B[43m[\u001B[49m\u001B[38;5;241;43m9\u001B[39;49m\u001B[43m]\u001B[49m\u001B[43m[\u001B[49m\u001B[38;5;241;43m0\u001B[39;49m\u001B[43m]\u001B[49m\u001B[43m)\u001B[49m\u001B[43m:\u001B[49m\u001B[38;5;28;43mint\u001B[39;49m\u001B[43m(\u001B[49m\u001B[43mpoints\u001B[49m\u001B[43m[\u001B[49m\u001B[38;5;241;43m9\u001B[39;49m\u001B[43m]\u001B[49m\u001B[43m[\u001B[49m\u001B[38;5;241;43m0\u001B[39;49m\u001B[43m]\u001B[49m\u001B[43m)\u001B[49m\u001B[38;5;241;43m+\u001B[39;49m\u001B[43mancho_gafas\u001B[49m\u001B[43m,\u001B[49m\u001B[43m:\u001B[49m\u001B[43m]\u001B[49m[region_no_transparente] \u001B[38;5;241m=\u001B[39m gafas_resized[:,:,:\u001B[38;5;241m3\u001B[39m][region_no_transparente]\n\u001B[0;32m     47\u001B[0m     frame[y:y\u001B[38;5;241m+\u001B[39mh, x:x\u001B[38;5;241m+\u001B[39mw] \u001B[38;5;241m=\u001B[39m cv2\u001B[38;5;241m.\u001B[39mresize(frame_cara,  (\u001B[38;5;241m96\u001B[39m, \u001B[38;5;241m96\u001B[39m), interpolation \u001B[38;5;241m=\u001B[39m cv2\u001B[38;5;241m.\u001B[39mINTER_CUBIC)\n\u001B[0;32m     49\u001B[0m \u001B[38;5;28;01mfor\u001B[39;00m point \u001B[38;5;129;01min\u001B[39;00m points:\n\u001B[0;32m     50\u001B[0m     \u001B[38;5;66;03m#resize points coordinates to original dataframe\u001B[39;00m\n",
      "\u001B[1;31mIndexError\u001B[0m: too many indices for array: array is 2-dimensional, but 3 were indexed"
     ]
    }
   ],
   "source": [
    "cap = cv2.VideoCapture(0)\n",
    "faceCascade = cv2.CascadeClassifier(cv2.data.haarcascades + 'haarcascade_frontalface_default.xml')\n",
    "glassesCascade = cv2.CascadeClassifier(cv2.data.haarcascades + 'haarcascade_lowerbody.xml')\n",
    "\n",
    "if not cap.isOpened():\n",
    "    print(\"Cannot open camera\")\n",
    "    exit()\n",
    "\n",
    "cont = 0\n",
    "while True:\n",
    "    # Capture frame-by-frame\n",
    "    ret, frame = cap.read()\n",
    "\n",
    "    # if frame is read correctly ret is True\n",
    "    if not ret:\n",
    "        print(\"Can't receive frame (stream end?). Exiting ...\")\n",
    "        break\n",
    "    # Our operations on the frame come here\n",
    "\n",
    "    frame = cv2.flip(frame, 90)\n",
    "    frame = cv2.cvtColor(frame, cv2.COLOR_BGR2GRAY)\n",
    "\n",
    "    faces = faceCascade.detectMultiScale(frame, scaleFactor=1.3, minNeighbors=5, minSize=(30, 30))\n",
    "    gafas = cv2.imread('filtros/sunglasses.png', cv2.IMREAD_UNCHANGED)\n",
    "\n",
    "    for (x, y, w, h) in faces:\n",
    "        gray_face = frame[y:y+h, x:x+w]\n",
    "        original_shape=gray_face.shape\n",
    "        frame_cara = cv2.resize(frame[y:y + h, x:x + w], (96, 96)) / 255\n",
    "\n",
    "        points_x, points_y = get_points(frame_cara)\n",
    "\n",
    "        points = list(zip(points_x, points_y))\n",
    "\n",
    "        ancho_gafas= int((points[7][0]-points[9][0]))\n",
    "        alto_gafas = int((points[10][1]-points[8][1]))\n",
    "\n",
    "        print(ancho_gafas, alto_gafas)\n",
    "\n",
    "        if ancho_gafas > 0 and alto_gafas > 0:\n",
    "            gafas_resized = cv2.resize(gafas, (ancho_gafas, alto_gafas), interpolation = cv2.INTER_CUBIC)\n",
    "\n",
    "            region_no_transparente = gafas_resized[:,:,:3] != 0\n",
    "            frame_cara[int(points[9][1]):int(points[9][1])+alto_gafas,\n",
    "            int(points[9][0]):int(points[9][0])+ancho_gafas,:][region_no_transparente] = gafas_resized[:,:,:3][region_no_transparente]\n",
    "\n",
    "            frame[y:y+h, x:x+w] = cv2.resize(frame_cara,  (96, 96), interpolation = cv2.INTER_CUBIC)\n",
    "\n",
    "        for point in points:\n",
    "            #resize points coordinates to original dataframe\n",
    "            point = (point[0] * w / 96, point[1] * h / 96)\n",
    "\n",
    "            #draw cirlce\n",
    "            cv2.circle(frame, (int(point[0] + x), int(point[1] + y)), 1, (255, 255, 255), 3)\n",
    "\n",
    "    # Display the resulting frame\n",
    "    cv2.imshow('frame', frame)\n",
    "    if cv2.waitKey(1) == ord('q'):\n",
    "        break\n",
    "\n",
    "    cont += 1\n",
    "# When everything done, release the capture\n",
    "cap.release()\n",
    "cv2.destroyAllWindows()"
   ],
   "metadata": {
    "collapsed": false
   }
  },
  {
   "cell_type": "code",
   "execution_count": null,
   "outputs": [],
   "source": [],
   "metadata": {
    "collapsed": false
   }
  }
 ],
 "metadata": {
  "kernelspec": {
   "display_name": "Python 3",
   "language": "python",
   "name": "python3"
  },
  "language_info": {
   "codemirror_mode": {
    "name": "ipython",
    "version": 2
   },
   "file_extension": ".py",
   "mimetype": "text/x-python",
   "name": "python",
   "nbconvert_exporter": "python",
   "pygments_lexer": "ipython2",
   "version": "2.7.6"
  }
 },
 "nbformat": 4,
 "nbformat_minor": 0
}
